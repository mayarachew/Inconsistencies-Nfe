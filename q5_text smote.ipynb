{
 "cells": [
  {
   "attachments": {},
   "cell_type": "markdown",
   "metadata": {},
   "source": [
    "## 5 - É possível identificar casos inconsistentes utilizando classificação de NCM?\n",
    "\n",
    "### Aplicação do SMOTE para lidar com desbalanceamento\n",
    "\n",
    "- Target: CÓDIGO NCM/SH\n",
    "\n",
    "- Texto: DESCRIÇÃO DO PRODUTO/SERVIÇO"
   ]
  },
  {
   "attachments": {},
   "cell_type": "markdown",
   "metadata": {},
   "source": [
    "### Importação de Bibliotecas"
   ]
  },
  {
   "cell_type": "code",
   "execution_count": 1,
   "metadata": {},
   "outputs": [
    {
     "name": "stderr",
     "output_type": "stream",
     "text": [
      "2023-04-03 12:10:03.832317: I tensorflow/tsl/cuda/cudart_stub.cc:28] Could not find cuda drivers on your machine, GPU will not be used.\n",
      "2023-04-03 12:10:03.881682: I tensorflow/tsl/cuda/cudart_stub.cc:28] Could not find cuda drivers on your machine, GPU will not be used.\n",
      "2023-04-03 12:10:03.882340: I tensorflow/core/platform/cpu_feature_guard.cc:182] This TensorFlow binary is optimized to use available CPU instructions in performance-critical operations.\n",
      "To enable the following instructions: AVX2 FMA, in other operations, rebuild TensorFlow with the appropriate compiler flags.\n",
      "2023-04-03 12:10:04.690784: W tensorflow/compiler/tf2tensorrt/utils/py_utils.cc:38] TF-TRT Warning: Could not find TensorRT\n",
      "/home/mayara/Documentos/tcc/nfe-analysis/Nfe-Analysis/.venv/lib/python3.8/site-packages/tensorflow_addons/utils/ensure_tf_install.py:53: UserWarning: Tensorflow Addons supports using Python ops for all Tensorflow versions above or equal to 2.9.0 and strictly below 2.12.0 (nightly versions are not supported). \n",
      " The versions of TensorFlow you are currently using is 2.12.0 and is not supported. \n",
      "Some things might work, some things might not.\n",
      "If you were to encounter a bug, do not file an issue.\n",
      "If you want to make sure you're using a tested and supported configuration, either change the TensorFlow version or the TensorFlow Addons's version. \n",
      "You can find the compatibility matrix in TensorFlow Addon's readme:\n",
      "https://github.com/tensorflow/addons\n",
      "  warnings.warn(\n",
      "[nltk_data] Downloading package stopwords to /home/mayara/nltk_data...\n",
      "[nltk_data]   Package stopwords is already up-to-date!\n",
      "[nltk_data] Downloading package wordnet to /home/mayara/nltk_data...\n",
      "[nltk_data]   Package wordnet is already up-to-date!\n",
      "[nltk_data] Downloading package omw-1.4 to /home/mayara/nltk_data...\n",
      "[nltk_data]   Package omw-1.4 is already up-to-date!\n"
     ]
    }
   ],
   "source": [
    "import pandas as pd\n",
    "import numpy as np\n",
    "import random\n",
    "import seaborn as sns\n",
    "import datetime\n",
    "import os\n",
    "from sklearn.metrics import classification_report\n",
    "\n",
    "import tensorflow_addons as tfa\n",
    "import keras_tuner as kt\n",
    "from tensorflow import keras\n",
    "import tensorflow as tf\n",
    "\n",
    "from classes import Preprocessing, Model, Lstm\n",
    "\n",
    "SEED = 42\n",
    "random.seed(SEED)\n",
    "np.random.seed(SEED)\n",
    "tf.random.set_seed(SEED)"
   ]
  },
  {
   "attachments": {},
   "cell_type": "markdown",
   "metadata": {},
   "source": [
    "### Leitura de Dados"
   ]
  },
  {
   "cell_type": "code",
   "execution_count": 2,
   "metadata": {},
   "outputs": [],
   "source": [
    "raw_df = pd.read_csv('data/processed_nfe/nfe_100000.csv')"
   ]
  },
  {
   "attachments": {},
   "cell_type": "markdown",
   "metadata": {},
   "source": [
    "### Pré-processamento"
   ]
  },
  {
   "attachments": {},
   "cell_type": "markdown",
   "metadata": {},
   "source": [
    "Tipagem"
   ]
  },
  {
   "cell_type": "code",
   "execution_count": 3,
   "metadata": {},
   "outputs": [],
   "source": [
    "df = Preprocessing.define_types(raw_df)\n",
    "df = Preprocessing.filter_event_authorized(df)"
   ]
  },
  {
   "attachments": {},
   "cell_type": "markdown",
   "metadata": {},
   "source": [
    "Definição de colunas"
   ]
  },
  {
   "cell_type": "code",
   "execution_count": 4,
   "metadata": {},
   "outputs": [
    {
     "name": "stderr",
     "output_type": "stream",
     "text": [
      "/tmp/ipykernel_13932/3354208132.py:1: SettingWithCopyWarning: \n",
      "A value is trying to be set on a copy of a slice from a DataFrame.\n",
      "Try using .loc[row_indexer,col_indexer] = value instead\n",
      "\n",
      "See the caveats in the documentation: https://pandas.pydata.org/pandas-docs/stable/user_guide/indexing.html#returning-a-view-versus-a-copy\n",
      "  df['CAPÍTULO NCM'] = df['CÓDIGO NCM/SH'].astype(str).str[0] + df['CÓDIGO NCM/SH'].astype(str).str[1]\n"
     ]
    },
    {
     "data": {
      "text/html": [
       "<div>\n",
       "<style scoped>\n",
       "    .dataframe tbody tr th:only-of-type {\n",
       "        vertical-align: middle;\n",
       "    }\n",
       "\n",
       "    .dataframe tbody tr th {\n",
       "        vertical-align: top;\n",
       "    }\n",
       "\n",
       "    .dataframe thead th {\n",
       "        text-align: right;\n",
       "    }\n",
       "</style>\n",
       "<table border=\"1\" class=\"dataframe\">\n",
       "  <thead>\n",
       "    <tr style=\"text-align: right;\">\n",
       "      <th></th>\n",
       "      <th>DESCRICAO</th>\n",
       "      <th>CAPÍTULO NCM</th>\n",
       "    </tr>\n",
       "  </thead>\n",
       "  <tbody>\n",
       "    <tr>\n",
       "      <th>0</th>\n",
       "      <td>CEBOLA KG</td>\n",
       "      <td>70</td>\n",
       "    </tr>\n",
       "    <tr>\n",
       "      <th>2</th>\n",
       "      <td>1020-1200 #FRESA INICIAL ACCOLADE TMFZ</td>\n",
       "      <td>90</td>\n",
       "    </tr>\n",
       "    <tr>\n",
       "      <th>3</th>\n",
       "      <td>NAN COMFOR 2 400G - NESTLE</td>\n",
       "      <td>19</td>\n",
       "    </tr>\n",
       "    <tr>\n",
       "      <th>4</th>\n",
       "      <td>OLIGONUCLEOTIDEOS - IDT</td>\n",
       "      <td>29</td>\n",
       "    </tr>\n",
       "    <tr>\n",
       "      <th>5</th>\n",
       "      <td>CARTUCHO DE TONER COMPATÍVEL SAMSUNG CTL 406Y ...</td>\n",
       "      <td>84</td>\n",
       "    </tr>\n",
       "  </tbody>\n",
       "</table>\n",
       "</div>"
      ],
      "text/plain": [
       "                                           DESCRICAO CAPÍTULO NCM\n",
       "0                                          CEBOLA KG           70\n",
       "2             1020-1200 #FRESA INICIAL ACCOLADE TMFZ           90\n",
       "3                         NAN COMFOR 2 400G - NESTLE           19\n",
       "4                            OLIGONUCLEOTIDEOS - IDT           29\n",
       "5  CARTUCHO DE TONER COMPATÍVEL SAMSUNG CTL 406Y ...           84"
      ]
     },
     "execution_count": 4,
     "metadata": {},
     "output_type": "execute_result"
    }
   ],
   "source": [
    "df['CAPÍTULO NCM'] = df['CÓDIGO NCM/SH'].astype(str).str[0] + df['CÓDIGO NCM/SH'].astype(str).str[1]\n",
    "df = df[['DESCRIÇÃO DO PRODUTO/SERVIÇO','CAPÍTULO NCM']]\n",
    "df.rename(columns={'DESCRIÇÃO DO PRODUTO/SERVIÇO':'DESCRICAO'},inplace=True)\n",
    "\n",
    "df.head()"
   ]
  },
  {
   "cell_type": "code",
   "execution_count": 5,
   "metadata": {},
   "outputs": [],
   "source": [
    "ncms_list = df['CAPÍTULO NCM'].value_counts()[0:50].index.tolist()\n",
    "df = df[df['CAPÍTULO NCM'].isin(ncms_list)]"
   ]
  },
  {
   "cell_type": "markdown",
   "metadata": {},
   "source": [
    "Aplica pré-processamento no texto da 'DESCRICAO'"
   ]
  },
  {
   "cell_type": "code",
   "execution_count": 6,
   "metadata": {},
   "outputs": [
    {
     "data": {
      "text/html": [
       "<div>\n",
       "<style scoped>\n",
       "    .dataframe tbody tr th:only-of-type {\n",
       "        vertical-align: middle;\n",
       "    }\n",
       "\n",
       "    .dataframe tbody tr th {\n",
       "        vertical-align: top;\n",
       "    }\n",
       "\n",
       "    .dataframe thead th {\n",
       "        text-align: right;\n",
       "    }\n",
       "</style>\n",
       "<table border=\"1\" class=\"dataframe\">\n",
       "  <thead>\n",
       "    <tr style=\"text-align: right;\">\n",
       "      <th></th>\n",
       "      <th>DESCRICAO</th>\n",
       "      <th>CAPÍTULO NCM</th>\n",
       "    </tr>\n",
       "  </thead>\n",
       "  <tbody>\n",
       "    <tr>\n",
       "      <th>0</th>\n",
       "      <td>[cebola, kg]</td>\n",
       "      <td>70</td>\n",
       "    </tr>\n",
       "    <tr>\n",
       "      <th>2</th>\n",
       "      <td>[fresa, inicial, accolade, tmfz]</td>\n",
       "      <td>90</td>\n",
       "    </tr>\n",
       "    <tr>\n",
       "      <th>3</th>\n",
       "      <td>[nan, comfor, QUANTITY, nestle]</td>\n",
       "      <td>19</td>\n",
       "    </tr>\n",
       "    <tr>\n",
       "      <th>4</th>\n",
       "      <td>[oligonucleotideos, idt]</td>\n",
       "      <td>29</td>\n",
       "    </tr>\n",
       "    <tr>\n",
       "      <th>5</th>\n",
       "      <td>[cartucho, toner, compatível, samsung, ctl, y,...</td>\n",
       "      <td>84</td>\n",
       "    </tr>\n",
       "  </tbody>\n",
       "</table>\n",
       "</div>"
      ],
      "text/plain": [
       "                                           DESCRICAO CAPÍTULO NCM\n",
       "0                                       [cebola, kg]           70\n",
       "2                   [fresa, inicial, accolade, tmfz]           90\n",
       "3                    [nan, comfor, QUANTITY, nestle]           19\n",
       "4                           [oligonucleotideos, idt]           29\n",
       "5  [cartucho, toner, compatível, samsung, ctl, y,...           84"
      ]
     },
     "execution_count": 6,
     "metadata": {},
     "output_type": "execute_result"
    }
   ],
   "source": [
    "df, corpus_desc = Preprocessing.apply_preprocessing(df)\n",
    "\n",
    "df.head()"
   ]
  },
  {
   "cell_type": "code",
   "execution_count": 7,
   "metadata": {},
   "outputs": [
    {
     "name": "stdout",
     "output_type": "stream",
     "text": [
      "train: 70%\n",
      "val: 10%\n",
      "test: 20%\n"
     ]
    }
   ],
   "source": [
    "df_train, df_val, df_test = Preprocessing().split_dataset(df,['DESCRICAO'],'CAPÍTULO NCM')"
   ]
  },
  {
   "cell_type": "code",
   "execution_count": 8,
   "metadata": {},
   "outputs": [
    {
     "data": {
      "text/plain": [
       "50"
      ]
     },
     "execution_count": 8,
     "metadata": {},
     "output_type": "execute_result"
    }
   ],
   "source": [
    "len(df_train['CAPÍTULO NCM'].unique())"
   ]
  },
  {
   "cell_type": "code",
   "execution_count": 9,
   "metadata": {},
   "outputs": [
    {
     "data": {
      "text/plain": [
       "50"
      ]
     },
     "execution_count": 9,
     "metadata": {},
     "output_type": "execute_result"
    }
   ],
   "source": [
    "len(df_val['CAPÍTULO NCM'].unique())"
   ]
  },
  {
   "cell_type": "code",
   "execution_count": 10,
   "metadata": {},
   "outputs": [
    {
     "name": "stdout",
     "output_type": "stream",
     "text": [
      "Mean sequence length: 4.781898377414373\n",
      "Max sequence length: 25\n"
     ]
    }
   ],
   "source": [
    "mean_sequence_length, max_sequence_length = Preprocessing.get_sequences_details(df_train)\n",
    "\n",
    "print(f'Mean sequence length: {mean_sequence_length}')\n",
    "print(f'Max sequence length: {max_sequence_length}')"
   ]
  },
  {
   "cell_type": "code",
   "execution_count": 11,
   "metadata": {},
   "outputs": [
    {
     "name": "stdout",
     "output_type": "stream",
     "text": [
      "Número de labels:  50\n",
      "Training features shape: (62801, 25)\n",
      "Validation features shape: (8972, 25)\n",
      "Test features shape: (17944, 25)\n"
     ]
    },
    {
     "data": {
      "text/plain": [
       "array([[    0,     0,     0, ...,     4,     1,    43],\n",
       "       [    0,     0,     0, ...,   906,   404,  2521],\n",
       "       [    0,     0,     0, ...,     1,   567, 12366],\n",
       "       ...,\n",
       "       [    0,     0,     0, ...,   166,  2693,     8],\n",
       "       [    0,     0,     0, ...,     0,   167,   896],\n",
       "       [    0,     0,     0, ...,     0,    95,   447]], dtype=int32)"
      ]
     },
     "execution_count": 11,
     "metadata": {},
     "output_type": "execute_result"
    }
   ],
   "source": [
    "MAX_SEQUENCE_LENGTH = max_sequence_length\n",
    "NUM_LABELS = len(ncms_list)\n",
    "\n",
    "VOCAB_SIZE, X_train_padded, X_val_padded, X_test_padded = Preprocessing.adapt_X_for_input_layer(df_train['DESCRICAO'].astype(str), df_val['DESCRICAO'].astype(str), df_test['DESCRICAO'].astype(str), MAX_SEQUENCE_LENGTH)\n",
    "\n",
    "print('Número de labels: ', NUM_LABELS)\n",
    "print('Training features shape:', X_train_padded.shape)\n",
    "print('Validation features shape:', X_val_padded.shape)\n",
    "print('Test features shape:', X_test_padded.shape)\n",
    "\n",
    "X_train_padded"
   ]
  },
  {
   "cell_type": "code",
   "execution_count": 12,
   "metadata": {},
   "outputs": [
    {
     "data": {
      "text/plain": [
       "CAPÍTULO NCM\n",
       "10              10031\n",
       "76              10031\n",
       "49              10031\n",
       "61              10031\n",
       "62              10031\n",
       "63              10031\n",
       "68              10031\n",
       "69              10031\n",
       "70              10031\n",
       "71              10031\n",
       "73              10031\n",
       "74              10031\n",
       "80              10031\n",
       "11              10031\n",
       "81              10031\n",
       "82              10031\n",
       "83              10031\n",
       "84              10031\n",
       "85              10031\n",
       "87              10031\n",
       "88              10031\n",
       "90              10031\n",
       "94              10031\n",
       "95              10031\n",
       "48              10031\n",
       "44              10031\n",
       "42              10031\n",
       "40              10031\n",
       "15              10031\n",
       "16              10031\n",
       "17              10031\n",
       "18              10031\n",
       "19              10031\n",
       "20              10031\n",
       "21              10031\n",
       "22              10031\n",
       "23              10031\n",
       "25              10031\n",
       "27              10031\n",
       "28              10031\n",
       "29              10031\n",
       "30              10031\n",
       "31              10031\n",
       "32              10031\n",
       "33              10031\n",
       "34              10031\n",
       "35              10031\n",
       "38              10031\n",
       "39              10031\n",
       "96              10031\n",
       "dtype: int64"
      ]
     },
     "execution_count": 12,
     "metadata": {},
     "output_type": "execute_result"
    }
   ],
   "source": [
    "# Resample all classes but the majority class\n",
    "X_train_padded, y_train_smote = Preprocessing.smote(X_train_padded, df_train['CAPÍTULO NCM'])\n",
    "\n",
    "pd.DataFrame(y_train_smote).value_counts()"
   ]
  },
  {
   "cell_type": "code",
   "execution_count": 13,
   "metadata": {},
   "outputs": [
    {
     "name": "stdout",
     "output_type": "stream",
     "text": [
      "Training features shape: (501550, 50)\n",
      "Validation features shape: (8972, 50)\n",
      "Test features shape: (17944, 50)\n"
     ]
    }
   ],
   "source": [
    "y_train_cat, y_val_cat, y_test_cat = Preprocessing.adapt_y_for_input_layer(y_train_smote, df_val['CAPÍTULO NCM'], df_test['CAPÍTULO NCM'])\n",
    "\n",
    "print('Training features shape:', y_train_cat.shape)\n",
    "print('Validation features shape:', y_val_cat.shape)\n",
    "print('Test features shape:', y_test_cat.shape)"
   ]
  },
  {
   "cell_type": "code",
   "execution_count": 14,
   "metadata": {},
   "outputs": [],
   "source": [
    "METRICS = [\n",
    "      'accuracy'\n",
    "]"
   ]
  },
  {
   "cell_type": "code",
   "execution_count": 15,
   "metadata": {},
   "outputs": [
    {
     "name": "stderr",
     "output_type": "stream",
     "text": [
      "2023-04-03 12:12:13.791791: E tensorflow/compiler/xla/stream_executor/cuda/cuda_driver.cc:266] failed call to cuInit: CUDA_ERROR_NO_DEVICE: no CUDA-capable device is detected\n"
     ]
    },
    {
     "name": "stdout",
     "output_type": "stream",
     "text": [
      "Search space summary\n",
      "Default search space size: 5\n",
      "units (Int)\n",
      "{'default': None, 'conditions': [], 'min_value': 16, 'max_value': 96, 'step': 8, 'sampling': 'linear'}\n",
      "activation1 (Choice)\n",
      "{'default': 'relu', 'conditions': [], 'values': ['relu', 'sigmoid'], 'ordered': False}\n",
      "rate (Float)\n",
      "{'default': 0.1, 'conditions': [], 'min_value': 0.1, 'max_value': 0.2, 'step': 0.1, 'sampling': 'linear'}\n",
      "activation2 (Choice)\n",
      "{'default': 'softmax', 'conditions': [], 'values': ['softmax'], 'ordered': False}\n",
      "learning_rate (Float)\n",
      "{'default': 0.0001, 'conditions': [], 'min_value': 0.0001, 'max_value': 0.005, 'step': None, 'sampling': 'log'}\n",
      "None\n"
     ]
    }
   ],
   "source": [
    "tuner = kt.RandomSearch(\n",
    "    hypermodel=Lstm(VOCAB_SIZE, MAX_SEQUENCE_LENGTH, NUM_LABELS, METRICS),\n",
    "    objective='accuracy',\n",
    "    max_trials=1,\n",
    "    executions_per_trial=1,\n",
    "    overwrite=True,\n",
    "    directory=\"models/hyperparameters_search\",\n",
    "    project_name=\"lstm_smote\",\n",
    "    seed=SEED\n",
    ")\n",
    "\n",
    "print(tuner.search_space_summary())"
   ]
  },
  {
   "cell_type": "code",
   "execution_count": 16,
   "metadata": {},
   "outputs": [],
   "source": [
    "logdir = os.path.join(\"models/logs/lstm_smote/\", datetime.datetime.now().strftime(\"%Y%m%d-%H%M%S\"))\n",
    "tensorboard_callback = keras.callbacks.TensorBoard(logdir, histogram_freq=1)\n",
    "earlystopping_callback = keras.callbacks.EarlyStopping('val_loss', mode='min', verbose=1, patience=5)\n",
    "\n",
    "callbacks_list = [earlystopping_callback, tensorboard_callback]"
   ]
  },
  {
   "cell_type": "code",
   "execution_count": 17,
   "metadata": {},
   "outputs": [
    {
     "name": "stdout",
     "output_type": "stream",
     "text": [
      "Trial 1 Complete [01h 16m 09s]\n",
      "accuracy: 0.40655967593193054\n",
      "\n",
      "Best accuracy So Far: 0.40655967593193054\n",
      "Total elapsed time: 01h 16m 09s\n",
      "INFO:tensorflow:Oracle triggered exit\n"
     ]
    }
   ],
   "source": [
    "tuner.search(X_train_padded, y_train_cat,\n",
    "             validation_data=(X_val_padded, y_val_cat),\n",
    "             callbacks=callbacks_list)"
   ]
  },
  {
   "cell_type": "code",
   "execution_count": 18,
   "metadata": {},
   "outputs": [
    {
     "name": "stdout",
     "output_type": "stream",
     "text": [
      "{'units': 72, 'activation1': 'relu', 'rate': 0.1, 'activation2': 'softmax', 'learning_rate': 0.0032295411136862955, 'batch_size': 8, 'epochs': 4}\n"
     ]
    }
   ],
   "source": [
    "best_model = tuner.get_best_models()[0]\n",
    "Model.save(best_model, 'saved_models/lstm')\n",
    "\n",
    "best_hps = tuner.get_best_hyperparameters()[0]\n",
    "print(best_hps.values)"
   ]
  },
  {
   "cell_type": "code",
   "execution_count": 24,
   "metadata": {},
   "outputs": [],
   "source": [
    "hypermodel = Model.recover('saved_models/lstm')\n",
    "\n",
    "EPOCHS = 4\n",
    "BATCH_SIZE = 8\n",
    "LEARNING_RATE = 0.0032295411136862955\n",
    "LOSS = 'categorical_crossentropy'\n",
    "\n",
    "hypermodel.compile(optimizer=keras.optimizers.Adam(learning_rate=LEARNING_RATE),\n",
    "                    loss=LOSS, \n",
    "                    metrics=METRICS) "
   ]
  },
  {
   "cell_type": "code",
   "execution_count": 20,
   "metadata": {},
   "outputs": [
    {
     "name": "stderr",
     "output_type": "stream",
     "text": [
      "2023-04-03 13:28:30.780455: I tensorflow/core/common_runtime/executor.cc:1197] [/device:CPU:0] (DEBUG INFO) Executor start aborting (this does not indicate an error and you can ignore this message): INVALID_ARGUMENT: You must feed a value for placeholder tensor 'Placeholder/_11' with dtype uint8 and shape [8972,50]\n",
      "\t [[{{node Placeholder/_11}}]]\n",
      "2023-04-03 13:28:30.780763: I tensorflow/core/common_runtime/executor.cc:1197] [/device:CPU:0] (DEBUG INFO) Executor start aborting (this does not indicate an error and you can ignore this message): INVALID_ARGUMENT: You must feed a value for placeholder tensor 'Placeholder/_11' with dtype uint8 and shape [8972,50]\n",
      "\t [[{{node Placeholder/_11}}]]\n"
     ]
    },
    {
     "name": "stdout",
     "output_type": "stream",
     "text": [
      "281/281 [==============================] - 1s 3ms/step - loss: 1.5003 - accuracy: 0.6850\n",
      "  1/281 [..............................] - ETA: 44s"
     ]
    },
    {
     "name": "stderr",
     "output_type": "stream",
     "text": [
      "2023-04-03 13:28:31.840678: I tensorflow/core/common_runtime/executor.cc:1197] [/device:CPU:0] (DEBUG INFO) Executor start aborting (this does not indicate an error and you can ignore this message): INVALID_ARGUMENT: You must feed a value for placeholder tensor 'Placeholder/_10' with dtype int32 and shape [8972,25]\n",
      "\t [[{{node Placeholder/_10}}]]\n",
      "2023-04-03 13:28:31.840924: I tensorflow/core/common_runtime/executor.cc:1197] [/device:CPU:0] (DEBUG INFO) Executor start aborting (this does not indicate an error and you can ignore this message): INVALID_ARGUMENT: You must feed a value for placeholder tensor 'Placeholder/_10' with dtype int32 and shape [8972,25]\n",
      "\t [[{{node Placeholder/_10}}]]\n"
     ]
    },
    {
     "name": "stdout",
     "output_type": "stream",
     "text": [
      "281/281 [==============================] - 1s 3ms/step\n",
      "\n",
      "Validation\n",
      "              precision    recall  f1-score   support\n",
      "\n",
      "           0       0.40      0.59      0.48        29\n",
      "           1       0.71      0.63      0.67        57\n",
      "           2       0.31      0.71      0.43        21\n",
      "           3       0.50      0.85      0.63        73\n",
      "           4       0.53      0.46      0.49        39\n",
      "           5       0.38      0.43      0.40        14\n",
      "           6       0.85      0.68      0.75       194\n",
      "           7       0.68      0.63      0.65       201\n",
      "           8       0.69      0.65      0.67       193\n",
      "           9       0.77      0.71      0.74       125\n",
      "          10       0.05      0.44      0.09        18\n",
      "          11       0.63      0.69      0.66        49\n",
      "          12       0.89      0.86      0.87       288\n",
      "          13       0.79      0.67      0.72       112\n",
      "          14       0.09      0.23      0.13        40\n",
      "          15       0.56      0.67      0.61       321\n",
      "          16       0.86      0.92      0.89        13\n",
      "          17       0.50      0.51      0.50        71\n",
      "          18       0.17      0.26      0.20        19\n",
      "          19       0.71      0.71      0.71       117\n",
      "          20       0.71      0.61      0.66        36\n",
      "          21       0.58      0.40      0.48       205\n",
      "          22       0.69      0.59      0.63       383\n",
      "          23       0.70      0.73      0.72       283\n",
      "          24       0.71      0.69      0.70        32\n",
      "          25       0.12      0.30      0.18        23\n",
      "          26       0.64      0.82      0.72       171\n",
      "          27       0.95      0.70      0.80       904\n",
      "          28       0.15      0.64      0.24        14\n",
      "          29       0.29      0.43      0.34        28\n",
      "          30       0.67      0.68      0.67        53\n",
      "          31       0.48      0.64      0.55        47\n",
      "          32       0.02      0.10      0.03        20\n",
      "          33       0.92      0.70      0.79       744\n",
      "          34       0.47      0.72      0.57       159\n",
      "          35       0.49      0.32      0.38       165\n",
      "          36       0.27      0.27      0.27        22\n",
      "          37       0.43      0.33      0.38        39\n",
      "          38       0.83      0.91      0.87       386\n",
      "          39       0.49      0.75      0.59        32\n",
      "          40       0.72      0.59      0.65       107\n",
      "          41       0.75      0.40      0.52        60\n",
      "          42       0.81      0.66      0.73       629\n",
      "          43       0.77      0.66      0.71       490\n",
      "          44       0.44      0.53      0.48       275\n",
      "          45       0.09      0.65      0.16        23\n",
      "          46       0.92      0.81      0.86      1426\n",
      "          47       0.33      0.32      0.33        62\n",
      "          48       0.02      0.27      0.04        11\n",
      "          49       0.75      0.84      0.79       149\n",
      "\n",
      "    accuracy                           0.69      8972\n",
      "   macro avg       0.55      0.59      0.54      8972\n",
      "weighted avg       0.76      0.69      0.71      8972\n",
      "\n"
     ]
    }
   ],
   "source": [
    "eval_result_val = hypermodel.evaluate(X_val_padded, y_val_cat)\n",
    "\n",
    "y_probabilities_val = hypermodel.predict(X_val_padded)\n",
    "y_pred_val = np.argmax(y_probabilities_val, axis=1)\n",
    "y_val = np.argmax(y_val_cat, axis=1)\n",
    "\n",
    "print('\\nValidation')\n",
    "print(classification_report(y_val, y_pred_val, zero_division=True))"
   ]
  },
  {
   "cell_type": "code",
   "execution_count": 21,
   "metadata": {},
   "outputs": [
    {
     "name": "stdout",
     "output_type": "stream",
     "text": [
      " 61/561 [==>...........................] - ETA: 1s - loss: 1.5060 - accuracy: 0.6829"
     ]
    },
    {
     "name": "stderr",
     "output_type": "stream",
     "text": [
      "2023-04-03 13:28:35.774167: I tensorflow/core/common_runtime/executor.cc:1197] [/device:CPU:0] (DEBUG INFO) Executor start aborting (this does not indicate an error and you can ignore this message): INVALID_ARGUMENT: You must feed a value for placeholder tensor 'Placeholder/_11' with dtype uint8 and shape [17944,50]\n",
      "\t [[{{node Placeholder/_11}}]]\n",
      "2023-04-03 13:28:35.774491: I tensorflow/core/common_runtime/executor.cc:1197] [/device:CPU:0] (DEBUG INFO) Executor start aborting (this does not indicate an error and you can ignore this message): INVALID_ARGUMENT: You must feed a value for placeholder tensor 'Placeholder/_11' with dtype uint8 and shape [17944,50]\n",
      "\t [[{{node Placeholder/_11}}]]\n"
     ]
    },
    {
     "name": "stdout",
     "output_type": "stream",
     "text": [
      "561/561 [==============================] - 2s 3ms/step - loss: 1.4826 - accuracy: 0.6888\n",
      " 34/561 [>.............................] - ETA: 2s"
     ]
    },
    {
     "name": "stderr",
     "output_type": "stream",
     "text": [
      "2023-04-03 13:28:37.529326: I tensorflow/core/common_runtime/executor.cc:1197] [/device:CPU:0] (DEBUG INFO) Executor start aborting (this does not indicate an error and you can ignore this message): INVALID_ARGUMENT: You must feed a value for placeholder tensor 'Placeholder/_10' with dtype int32 and shape [17944,25]\n",
      "\t [[{{node Placeholder/_10}}]]\n",
      "2023-04-03 13:28:37.529698: I tensorflow/core/common_runtime/executor.cc:1197] [/device:CPU:0] (DEBUG INFO) Executor start aborting (this does not indicate an error and you can ignore this message): INVALID_ARGUMENT: You must feed a value for placeholder tensor 'Placeholder/_10' with dtype int32 and shape [17944,25]\n",
      "\t [[{{node Placeholder/_10}}]]\n"
     ]
    },
    {
     "name": "stdout",
     "output_type": "stream",
     "text": [
      "561/561 [==============================] - 3s 5ms/step\n",
      "\\Test\n",
      "              precision    recall  f1-score   support\n",
      "\n",
      "           0       0.39      0.59      0.47        64\n",
      "           1       0.74      0.61      0.67       109\n",
      "           2       0.45      0.77      0.56        65\n",
      "           3       0.56      0.85      0.68       164\n",
      "           4       0.67      0.70      0.68        57\n",
      "           5       0.52      0.73      0.61        33\n",
      "           6       0.85      0.66      0.74       348\n",
      "           7       0.68      0.59      0.63       367\n",
      "           8       0.66      0.69      0.68       355\n",
      "           9       0.70      0.75      0.73       216\n",
      "          10       0.05      0.57      0.10        28\n",
      "          11       0.56      0.68      0.61        78\n",
      "          12       0.88      0.86      0.87       576\n",
      "          13       0.73      0.70      0.72       181\n",
      "          14       0.16      0.29      0.21        95\n",
      "          15       0.60      0.70      0.65       762\n",
      "          16       0.80      0.62      0.70        26\n",
      "          17       0.58      0.67      0.62       166\n",
      "          18       0.11      0.11      0.11        44\n",
      "          19       0.72      0.66      0.69       251\n",
      "          20       0.78      0.60      0.68        63\n",
      "          21       0.63      0.43      0.51       417\n",
      "          22       0.69      0.56      0.62       733\n",
      "          23       0.72      0.72      0.72       544\n",
      "          24       0.38      0.62      0.47        48\n",
      "          25       0.12      0.27      0.16        37\n",
      "          26       0.56      0.83      0.67       292\n",
      "          27       0.95      0.69      0.80      1868\n",
      "          28       0.17      0.42      0.24        53\n",
      "          29       0.22      0.41      0.29        49\n",
      "          30       0.70      0.62      0.66       142\n",
      "          31       0.47      0.56      0.51        98\n",
      "          32       0.03      0.18      0.05        34\n",
      "          33       0.91      0.72      0.80      1439\n",
      "          34       0.51      0.74      0.61       323\n",
      "          35       0.44      0.25      0.32       337\n",
      "          36       0.12      0.15      0.13        27\n",
      "          37       0.38      0.25      0.30        83\n",
      "          38       0.82      0.93      0.87       714\n",
      "          39       0.50      0.67      0.57        76\n",
      "          40       0.65      0.48      0.55       191\n",
      "          41       0.71      0.42      0.53       135\n",
      "          42       0.82      0.67      0.74      1315\n",
      "          43       0.76      0.70      0.73       997\n",
      "          44       0.40      0.52      0.45       528\n",
      "          45       0.04      0.45      0.08        29\n",
      "          46       0.92      0.82      0.87      2932\n",
      "          47       0.32      0.31      0.32       109\n",
      "          48       0.03      0.29      0.06        34\n",
      "          49       0.80      0.86      0.83       312\n",
      "\n",
      "    accuracy                           0.69     17944\n",
      "   macro avg       0.54      0.58      0.54     17944\n",
      "weighted avg       0.76      0.69      0.71     17944\n",
      "\n"
     ]
    }
   ],
   "source": [
    "eval_result_test = hypermodel.evaluate(X_test_padded, y_test_cat)\n",
    "\n",
    "y_probabilities_test = hypermodel.predict(X_test_padded)\n",
    "y_pred_test = np.argmax(y_probabilities_test, axis=1)\n",
    "y_test = np.argmax(y_test_cat, axis=1)\n",
    "\n",
    "print('\\Test')\n",
    "print(classification_report(y_test, y_pred_test, zero_division=True))"
   ]
  }
 ],
 "metadata": {
  "kernelspec": {
   "display_name": ".venv",
   "language": "python",
   "name": "python3"
  },
  "language_info": {
   "codemirror_mode": {
    "name": "ipython",
    "version": 3
   },
   "file_extension": ".py",
   "mimetype": "text/x-python",
   "name": "python",
   "nbconvert_exporter": "python",
   "pygments_lexer": "ipython3",
   "version": "3.8.10"
  },
  "orig_nbformat": 4
 },
 "nbformat": 4,
 "nbformat_minor": 2
}
