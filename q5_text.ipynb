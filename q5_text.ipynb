{
 "cells": [
  {
   "attachments": {},
   "cell_type": "markdown",
   "metadata": {},
   "source": [
    "## 5 - É possível identificar casos inconsistentes utilizando classificação de NCM?\n",
    "\n",
    "- Target: CÓDIGO NCM/SH\n",
    "\n",
    "- Texto: DESCRIÇÃO DO PRODUTO/SERVIÇO"
   ]
  },
  {
   "attachments": {},
   "cell_type": "markdown",
   "metadata": {},
   "source": [
    "### Importação de Bibliotecas"
   ]
  },
  {
   "cell_type": "code",
   "execution_count": 1,
   "metadata": {},
   "outputs": [
    {
     "name": "stderr",
     "output_type": "stream",
     "text": [
      "2023-04-03 08:18:27.407780: I tensorflow/tsl/cuda/cudart_stub.cc:28] Could not find cuda drivers on your machine, GPU will not be used.\n",
      "2023-04-03 08:18:27.472321: I tensorflow/tsl/cuda/cudart_stub.cc:28] Could not find cuda drivers on your machine, GPU will not be used.\n",
      "2023-04-03 08:18:27.473190: I tensorflow/core/platform/cpu_feature_guard.cc:182] This TensorFlow binary is optimized to use available CPU instructions in performance-critical operations.\n",
      "To enable the following instructions: AVX2 FMA, in other operations, rebuild TensorFlow with the appropriate compiler flags.\n",
      "2023-04-03 08:18:28.785859: W tensorflow/compiler/tf2tensorrt/utils/py_utils.cc:38] TF-TRT Warning: Could not find TensorRT\n",
      "/home/mayara/Documentos/tcc/nfe-analysis/Nfe-Analysis/.venv/lib/python3.8/site-packages/tensorflow_addons/utils/ensure_tf_install.py:53: UserWarning: Tensorflow Addons supports using Python ops for all Tensorflow versions above or equal to 2.9.0 and strictly below 2.12.0 (nightly versions are not supported). \n",
      " The versions of TensorFlow you are currently using is 2.12.0 and is not supported. \n",
      "Some things might work, some things might not.\n",
      "If you were to encounter a bug, do not file an issue.\n",
      "If you want to make sure you're using a tested and supported configuration, either change the TensorFlow version or the TensorFlow Addons's version. \n",
      "You can find the compatibility matrix in TensorFlow Addon's readme:\n",
      "https://github.com/tensorflow/addons\n",
      "  warnings.warn(\n",
      "[nltk_data] Downloading package stopwords to /home/mayara/nltk_data...\n",
      "[nltk_data]   Package stopwords is already up-to-date!\n",
      "[nltk_data] Downloading package wordnet to /home/mayara/nltk_data...\n",
      "[nltk_data]   Package wordnet is already up-to-date!\n",
      "[nltk_data] Downloading package omw-1.4 to /home/mayara/nltk_data...\n",
      "[nltk_data]   Package omw-1.4 is already up-to-date!\n"
     ]
    }
   ],
   "source": [
    "import pandas as pd\n",
    "import numpy as np\n",
    "import random\n",
    "import seaborn as sns\n",
    "import datetime\n",
    "import os\n",
    "from sklearn.metrics import classification_report\n",
    "\n",
    "import tensorflow_addons as tfa\n",
    "import keras_tuner as kt\n",
    "from tensorflow import keras\n",
    "import tensorflow as tf\n",
    "\n",
    "from classes import Preprocessing, Model, Lstm\n",
    "\n",
    "SEED = 42\n",
    "random.seed(SEED)\n",
    "np.random.seed(SEED)\n",
    "tf.random.set_seed(SEED)"
   ]
  },
  {
   "attachments": {},
   "cell_type": "markdown",
   "metadata": {},
   "source": [
    "### Leitura de Dados"
   ]
  },
  {
   "cell_type": "code",
   "execution_count": 2,
   "metadata": {},
   "outputs": [],
   "source": [
    "raw_df = pd.read_csv('data/processed_nfe/nfe_100000.csv')"
   ]
  },
  {
   "attachments": {},
   "cell_type": "markdown",
   "metadata": {},
   "source": [
    "### Pré-processamento"
   ]
  },
  {
   "attachments": {},
   "cell_type": "markdown",
   "metadata": {},
   "source": [
    "Tipagem"
   ]
  },
  {
   "cell_type": "code",
   "execution_count": 3,
   "metadata": {},
   "outputs": [],
   "source": [
    "df = Preprocessing.define_types(raw_df)\n",
    "df = Preprocessing.filter_event_authorized(df)"
   ]
  },
  {
   "attachments": {},
   "cell_type": "markdown",
   "metadata": {},
   "source": [
    "Definição de colunas"
   ]
  },
  {
   "cell_type": "code",
   "execution_count": 4,
   "metadata": {},
   "outputs": [
    {
     "name": "stderr",
     "output_type": "stream",
     "text": [
      "/tmp/ipykernel_3684/3354208132.py:1: SettingWithCopyWarning: \n",
      "A value is trying to be set on a copy of a slice from a DataFrame.\n",
      "Try using .loc[row_indexer,col_indexer] = value instead\n",
      "\n",
      "See the caveats in the documentation: https://pandas.pydata.org/pandas-docs/stable/user_guide/indexing.html#returning-a-view-versus-a-copy\n",
      "  df['CAPÍTULO NCM'] = df['CÓDIGO NCM/SH'].astype(str).str[0] + df['CÓDIGO NCM/SH'].astype(str).str[1]\n"
     ]
    },
    {
     "data": {
      "text/html": [
       "<div>\n",
       "<style scoped>\n",
       "    .dataframe tbody tr th:only-of-type {\n",
       "        vertical-align: middle;\n",
       "    }\n",
       "\n",
       "    .dataframe tbody tr th {\n",
       "        vertical-align: top;\n",
       "    }\n",
       "\n",
       "    .dataframe thead th {\n",
       "        text-align: right;\n",
       "    }\n",
       "</style>\n",
       "<table border=\"1\" class=\"dataframe\">\n",
       "  <thead>\n",
       "    <tr style=\"text-align: right;\">\n",
       "      <th></th>\n",
       "      <th>DESCRICAO</th>\n",
       "      <th>CAPÍTULO NCM</th>\n",
       "    </tr>\n",
       "  </thead>\n",
       "  <tbody>\n",
       "    <tr>\n",
       "      <th>0</th>\n",
       "      <td>CEBOLA KG</td>\n",
       "      <td>70</td>\n",
       "    </tr>\n",
       "    <tr>\n",
       "      <th>2</th>\n",
       "      <td>1020-1200 #FRESA INICIAL ACCOLADE TMFZ</td>\n",
       "      <td>90</td>\n",
       "    </tr>\n",
       "    <tr>\n",
       "      <th>3</th>\n",
       "      <td>NAN COMFOR 2 400G - NESTLE</td>\n",
       "      <td>19</td>\n",
       "    </tr>\n",
       "    <tr>\n",
       "      <th>4</th>\n",
       "      <td>OLIGONUCLEOTIDEOS - IDT</td>\n",
       "      <td>29</td>\n",
       "    </tr>\n",
       "    <tr>\n",
       "      <th>5</th>\n",
       "      <td>CARTUCHO DE TONER COMPATÍVEL SAMSUNG CTL 406Y ...</td>\n",
       "      <td>84</td>\n",
       "    </tr>\n",
       "  </tbody>\n",
       "</table>\n",
       "</div>"
      ],
      "text/plain": [
       "                                           DESCRICAO CAPÍTULO NCM\n",
       "0                                          CEBOLA KG           70\n",
       "2             1020-1200 #FRESA INICIAL ACCOLADE TMFZ           90\n",
       "3                         NAN COMFOR 2 400G - NESTLE           19\n",
       "4                            OLIGONUCLEOTIDEOS - IDT           29\n",
       "5  CARTUCHO DE TONER COMPATÍVEL SAMSUNG CTL 406Y ...           84"
      ]
     },
     "execution_count": 4,
     "metadata": {},
     "output_type": "execute_result"
    }
   ],
   "source": [
    "df['CAPÍTULO NCM'] = df['CÓDIGO NCM/SH'].astype(str).str[0] + df['CÓDIGO NCM/SH'].astype(str).str[1]\n",
    "df = df[['DESCRIÇÃO DO PRODUTO/SERVIÇO','CAPÍTULO NCM']]\n",
    "df.rename(columns={'DESCRIÇÃO DO PRODUTO/SERVIÇO':'DESCRICAO'},inplace=True)\n",
    "\n",
    "df.head()"
   ]
  },
  {
   "cell_type": "code",
   "execution_count": 5,
   "metadata": {},
   "outputs": [],
   "source": [
    "ncms_list = df['CAPÍTULO NCM'].value_counts()[0:50].index.tolist()\n",
    "df = df[df['CAPÍTULO NCM'].isin(ncms_list)]"
   ]
  },
  {
   "cell_type": "markdown",
   "metadata": {},
   "source": [
    "Aplica pré-processamento no texto da 'DESCRICAO'"
   ]
  },
  {
   "cell_type": "code",
   "execution_count": 6,
   "metadata": {},
   "outputs": [
    {
     "data": {
      "text/html": [
       "<div>\n",
       "<style scoped>\n",
       "    .dataframe tbody tr th:only-of-type {\n",
       "        vertical-align: middle;\n",
       "    }\n",
       "\n",
       "    .dataframe tbody tr th {\n",
       "        vertical-align: top;\n",
       "    }\n",
       "\n",
       "    .dataframe thead th {\n",
       "        text-align: right;\n",
       "    }\n",
       "</style>\n",
       "<table border=\"1\" class=\"dataframe\">\n",
       "  <thead>\n",
       "    <tr style=\"text-align: right;\">\n",
       "      <th></th>\n",
       "      <th>DESCRICAO</th>\n",
       "      <th>CAPÍTULO NCM</th>\n",
       "    </tr>\n",
       "  </thead>\n",
       "  <tbody>\n",
       "    <tr>\n",
       "      <th>0</th>\n",
       "      <td>[cebola, kg]</td>\n",
       "      <td>70</td>\n",
       "    </tr>\n",
       "    <tr>\n",
       "      <th>2</th>\n",
       "      <td>[fresa, inicial, accolade, tmfz]</td>\n",
       "      <td>90</td>\n",
       "    </tr>\n",
       "    <tr>\n",
       "      <th>3</th>\n",
       "      <td>[nan, comfor, QUANTITY, nestle]</td>\n",
       "      <td>19</td>\n",
       "    </tr>\n",
       "    <tr>\n",
       "      <th>4</th>\n",
       "      <td>[oligonucleotideos, idt]</td>\n",
       "      <td>29</td>\n",
       "    </tr>\n",
       "    <tr>\n",
       "      <th>5</th>\n",
       "      <td>[cartucho, toner, compatível, samsung, ctl, y,...</td>\n",
       "      <td>84</td>\n",
       "    </tr>\n",
       "  </tbody>\n",
       "</table>\n",
       "</div>"
      ],
      "text/plain": [
       "                                           DESCRICAO CAPÍTULO NCM\n",
       "0                                       [cebola, kg]           70\n",
       "2                   [fresa, inicial, accolade, tmfz]           90\n",
       "3                    [nan, comfor, QUANTITY, nestle]           19\n",
       "4                           [oligonucleotideos, idt]           29\n",
       "5  [cartucho, toner, compatível, samsung, ctl, y,...           84"
      ]
     },
     "execution_count": 6,
     "metadata": {},
     "output_type": "execute_result"
    }
   ],
   "source": [
    "df, corpus_desc = Preprocessing.apply_preprocessing(df)\n",
    "\n",
    "df.head()"
   ]
  },
  {
   "cell_type": "code",
   "execution_count": 7,
   "metadata": {},
   "outputs": [
    {
     "name": "stdout",
     "output_type": "stream",
     "text": [
      "train: 70%\n",
      "val: 10%\n",
      "test: 20%\n"
     ]
    }
   ],
   "source": [
    "df_train, df_val, df_test = Preprocessing().split_dataset(df,['DESCRICAO'],'CAPÍTULO NCM')"
   ]
  },
  {
   "cell_type": "code",
   "execution_count": 8,
   "metadata": {},
   "outputs": [
    {
     "data": {
      "text/plain": [
       "50"
      ]
     },
     "execution_count": 8,
     "metadata": {},
     "output_type": "execute_result"
    }
   ],
   "source": [
    "len(df_train['CAPÍTULO NCM'].unique())"
   ]
  },
  {
   "cell_type": "code",
   "execution_count": 9,
   "metadata": {},
   "outputs": [
    {
     "data": {
      "text/plain": [
       "50"
      ]
     },
     "execution_count": 9,
     "metadata": {},
     "output_type": "execute_result"
    }
   ],
   "source": [
    "len(df_val['CAPÍTULO NCM'].unique())"
   ]
  },
  {
   "cell_type": "code",
   "execution_count": 10,
   "metadata": {},
   "outputs": [
    {
     "name": "stdout",
     "output_type": "stream",
     "text": [
      "Mean sequence length: 4.781898377414373\n",
      "Max sequence length: 25\n"
     ]
    }
   ],
   "source": [
    "mean_sequence_length, max_sequence_length = Preprocessing.get_sequences_details(df_train)\n",
    "\n",
    "print(f'Mean sequence length: {mean_sequence_length}')\n",
    "print(f'Max sequence length: {max_sequence_length}')"
   ]
  },
  {
   "cell_type": "code",
   "execution_count": 11,
   "metadata": {},
   "outputs": [
    {
     "name": "stdout",
     "output_type": "stream",
     "text": [
      "Número de labels:  50\n",
      "Training features shape: (62801, 25)\n",
      "Validation features shape: (8972, 25)\n",
      "Test features shape: (17944, 25)\n"
     ]
    },
    {
     "data": {
      "text/plain": [
       "array([[    0,     0,     0, ...,     4,     1,    43],\n",
       "       [    0,     0,     0, ...,   906,   404,  2521],\n",
       "       [    0,     0,     0, ...,     1,   567, 12366],\n",
       "       ...,\n",
       "       [    0,     0,     0, ...,   166,  2693,     8],\n",
       "       [    0,     0,     0, ...,     0,   167,   896],\n",
       "       [    0,     0,     0, ...,     0,    95,   447]], dtype=int32)"
      ]
     },
     "execution_count": 11,
     "metadata": {},
     "output_type": "execute_result"
    }
   ],
   "source": [
    "MAX_SEQUENCE_LENGTH = max_sequence_length\n",
    "NUM_LABELS = len(ncms_list)\n",
    "\n",
    "VOCAB_SIZE, X_train_padded, X_val_padded, X_test_padded = Preprocessing.adapt_X_for_input_layer(df_train['DESCRICAO'].astype(str), df_val['DESCRICAO'].astype(str), df_test['DESCRICAO'].astype(str), MAX_SEQUENCE_LENGTH)\n",
    "\n",
    "print('Número de labels: ', NUM_LABELS)\n",
    "print('Training features shape:', X_train_padded.shape)\n",
    "print('Validation features shape:', X_val_padded.shape)\n",
    "print('Test features shape:', X_test_padded.shape)\n",
    "\n",
    "X_train_padded"
   ]
  },
  {
   "cell_type": "code",
   "execution_count": 12,
   "metadata": {},
   "outputs": [
    {
     "name": "stdout",
     "output_type": "stream",
     "text": [
      "Training features shape: (62801, 50)\n",
      "Validation features shape: (8972, 50)\n",
      "Test features shape: (17944, 50)\n"
     ]
    }
   ],
   "source": [
    "y_train_cat, y_val_cat, y_test_cat = Preprocessing.adapt_y_for_input_layer(df_train['CAPÍTULO NCM'], df_val['CAPÍTULO NCM'], df_test['CAPÍTULO NCM'])\n",
    "\n",
    "print('Training features shape:', y_train_cat.shape)\n",
    "print('Validation features shape:', y_val_cat.shape)\n",
    "print('Test features shape:', y_test_cat.shape)"
   ]
  },
  {
   "cell_type": "code",
   "execution_count": 13,
   "metadata": {},
   "outputs": [],
   "source": [
    "METRICS = [\n",
    "      'accuracy'\n",
    "]"
   ]
  },
  {
   "cell_type": "code",
   "execution_count": 14,
   "metadata": {},
   "outputs": [
    {
     "name": "stderr",
     "output_type": "stream",
     "text": [
      "2023-04-03 08:20:23.959236: E tensorflow/compiler/xla/stream_executor/cuda/cuda_driver.cc:266] failed call to cuInit: CUDA_ERROR_NO_DEVICE: no CUDA-capable device is detected\n"
     ]
    },
    {
     "name": "stdout",
     "output_type": "stream",
     "text": [
      "Search space summary\n",
      "Default search space size: 5\n",
      "units (Int)\n",
      "{'default': None, 'conditions': [], 'min_value': 16, 'max_value': 96, 'step': 8, 'sampling': 'linear'}\n",
      "activation1 (Choice)\n",
      "{'default': 'relu', 'conditions': [], 'values': ['relu', 'sigmoid'], 'ordered': False}\n",
      "rate (Float)\n",
      "{'default': 0.1, 'conditions': [], 'min_value': 0.1, 'max_value': 0.2, 'step': 0.1, 'sampling': 'linear'}\n",
      "activation2 (Choice)\n",
      "{'default': 'softmax', 'conditions': [], 'values': ['softmax'], 'ordered': False}\n",
      "learning_rate (Float)\n",
      "{'default': 0.0001, 'conditions': [], 'min_value': 0.0001, 'max_value': 0.005, 'step': None, 'sampling': 'log'}\n",
      "None\n"
     ]
    }
   ],
   "source": [
    "tuner = kt.RandomSearch(\n",
    "    hypermodel=Lstm(VOCAB_SIZE, MAX_SEQUENCE_LENGTH, NUM_LABELS, METRICS),\n",
    "    objective='accuracy',\n",
    "    max_trials=1,\n",
    "    executions_per_trial=1,\n",
    "    overwrite=True,\n",
    "    directory=\"models/hyperparameters_search\",\n",
    "    project_name=\"lstm\",\n",
    "    seed=SEED\n",
    ")\n",
    "\n",
    "print(tuner.search_space_summary())"
   ]
  },
  {
   "cell_type": "code",
   "execution_count": 15,
   "metadata": {},
   "outputs": [],
   "source": [
    "logdir = os.path.join(\"models/logs/lstm/\", datetime.datetime.now().strftime(\"%Y%m%d-%H%M%S\"))\n",
    "tensorboard_callback = keras.callbacks.TensorBoard(logdir, histogram_freq=1)\n",
    "earlystopping_callback = keras.callbacks.EarlyStopping('val_loss', mode='min', verbose=1, patience=5)\n",
    "\n",
    "callbacks_list = [earlystopping_callback, tensorboard_callback]"
   ]
  },
  {
   "cell_type": "code",
   "execution_count": 16,
   "metadata": {},
   "outputs": [
    {
     "name": "stdout",
     "output_type": "stream",
     "text": [
      "Trial 1 Complete [00h 12m 44s]\n",
      "accuracy: 0.8779159784317017\n",
      "\n",
      "Best accuracy So Far: 0.8779159784317017\n",
      "Total elapsed time: 00h 12m 44s\n",
      "INFO:tensorflow:Oracle triggered exit\n"
     ]
    }
   ],
   "source": [
    "tuner.search(X_train_padded, y_train_cat,\n",
    "             validation_data=(X_val_padded, y_val_cat),\n",
    "             callbacks=callbacks_list)"
   ]
  },
  {
   "cell_type": "code",
   "execution_count": 17,
   "metadata": {},
   "outputs": [
    {
     "name": "stdout",
     "output_type": "stream",
     "text": [
      "{'units': 72, 'activation1': 'relu', 'rate': 0.1, 'activation2': 'softmax', 'learning_rate': 0.0032295411136862955, 'batch_size': 8, 'epochs': 4}\n"
     ]
    }
   ],
   "source": [
    "best_model = tuner.get_best_models()[0]\n",
    "Model.save(best_model, 'saved_models/lstm')\n",
    "\n",
    "best_hps = tuner.get_best_hyperparameters()[0]\n",
    "print(best_hps.values)"
   ]
  },
  {
   "cell_type": "code",
   "execution_count": 18,
   "metadata": {},
   "outputs": [],
   "source": [
    "hypermodel = Model.recover('saved_models/lstm')\n",
    "\n",
    "EPOCHS = 8\n",
    "BATCH_SIZE = 8\n",
    "LEARNING_RATE = 0.0032295411136862955\n",
    "LOSS = 'categorical_crossentropy'\n",
    "\n",
    "hypermodel.compile(optimizer=keras.optimizers.Adam(learning_rate=LEARNING_RATE),\n",
    "                    loss=LOSS, \n",
    "                    metrics=METRICS) "
   ]
  },
  {
   "cell_type": "code",
   "execution_count": 19,
   "metadata": {},
   "outputs": [
    {
     "name": "stderr",
     "output_type": "stream",
     "text": [
      "2023-04-03 08:33:10.964033: I tensorflow/core/common_runtime/executor.cc:1197] [/device:CPU:0] (DEBUG INFO) Executor start aborting (this does not indicate an error and you can ignore this message): INVALID_ARGUMENT: You must feed a value for placeholder tensor 'Placeholder/_11' with dtype uint8 and shape [8972,50]\n",
      "\t [[{{node Placeholder/_11}}]]\n",
      "2023-04-03 08:33:10.964497: I tensorflow/core/common_runtime/executor.cc:1197] [/device:CPU:0] (DEBUG INFO) Executor start aborting (this does not indicate an error and you can ignore this message): INVALID_ARGUMENT: You must feed a value for placeholder tensor 'Placeholder/_11' with dtype uint8 and shape [8972,50]\n",
      "\t [[{{node Placeholder/_11}}]]\n"
     ]
    },
    {
     "name": "stdout",
     "output_type": "stream",
     "text": [
      "281/281 [==============================] - 3s 6ms/step - loss: 0.8655 - accuracy: 0.8132\n"
     ]
    },
    {
     "name": "stderr",
     "output_type": "stream",
     "text": [
      "2023-04-03 08:33:13.565008: I tensorflow/core/common_runtime/executor.cc:1197] [/device:CPU:0] (DEBUG INFO) Executor start aborting (this does not indicate an error and you can ignore this message): INVALID_ARGUMENT: You must feed a value for placeholder tensor 'Placeholder/_10' with dtype int32 and shape [8972,25]\n",
      "\t [[{{node Placeholder/_10}}]]\n",
      "2023-04-03 08:33:13.565471: I tensorflow/core/common_runtime/executor.cc:1197] [/device:CPU:0] (DEBUG INFO) Executor start aborting (this does not indicate an error and you can ignore this message): INVALID_ARGUMENT: You must feed a value for placeholder tensor 'Placeholder/_10' with dtype int32 and shape [8972,25]\n",
      "\t [[{{node Placeholder/_10}}]]\n"
     ]
    },
    {
     "name": "stdout",
     "output_type": "stream",
     "text": [
      "281/281 [==============================] - 2s 6ms/step\n",
      "\n",
      "Validation\n",
      "              precision    recall  f1-score   support\n",
      "\n",
      "           0       0.71      0.52      0.60        29\n",
      "           1       0.84      0.86      0.85        57\n",
      "           2       0.94      0.71      0.81        21\n",
      "           3       0.79      0.84      0.81        73\n",
      "           4       0.96      0.62      0.75        39\n",
      "           5       0.58      0.50      0.54        14\n",
      "           6       0.83      0.86      0.84       194\n",
      "           7       0.76      0.71      0.74       201\n",
      "           8       0.76      0.80      0.78       193\n",
      "           9       0.84      0.84      0.84       125\n",
      "          10       0.70      0.39      0.50        18\n",
      "          11       0.85      0.80      0.82        49\n",
      "          12       0.91      0.93      0.92       288\n",
      "          13       0.79      0.80      0.80       112\n",
      "          14       0.53      0.53      0.53        40\n",
      "          15       0.81      0.84      0.83       321\n",
      "          16       0.85      0.85      0.85        13\n",
      "          17       0.75      0.69      0.72        71\n",
      "          18       0.88      0.37      0.52        19\n",
      "          19       0.81      0.70      0.75       117\n",
      "          20       0.81      0.58      0.68        36\n",
      "          21       0.68      0.71      0.70       205\n",
      "          22       0.67      0.78      0.72       383\n",
      "          23       0.73      0.81      0.77       283\n",
      "          24       0.71      0.75      0.73        32\n",
      "          25       0.71      0.43      0.54        23\n",
      "          26       0.91      0.84      0.87       171\n",
      "          27       0.98      0.94      0.96       904\n",
      "          28       0.60      0.21      0.32        14\n",
      "          29       0.64      0.75      0.69        28\n",
      "          30       0.80      0.77      0.79        53\n",
      "          31       0.76      0.66      0.70        47\n",
      "          32       0.86      0.30      0.44        20\n",
      "          33       0.86      0.87      0.86       744\n",
      "          34       0.78      0.56      0.65       159\n",
      "          35       0.60      0.64      0.62       165\n",
      "          36       0.88      0.32      0.47        22\n",
      "          37       0.67      0.41      0.51        39\n",
      "          38       0.83      0.93      0.88       386\n",
      "          39       0.59      0.69      0.64        32\n",
      "          40       0.75      0.79      0.77       107\n",
      "          41       0.70      0.62      0.65        60\n",
      "          42       0.74      0.81      0.77       629\n",
      "          43       0.76      0.79      0.78       490\n",
      "          44       0.62      0.51      0.56       275\n",
      "          45       0.28      0.52      0.36        23\n",
      "          46       0.91      0.91      0.91      1426\n",
      "          47       0.86      0.60      0.70        62\n",
      "          48       0.33      0.27      0.30        11\n",
      "          49       0.85      0.91      0.88       149\n",
      "\n",
      "    accuracy                           0.81      8972\n",
      "   macro avg       0.76      0.68      0.70      8972\n",
      "weighted avg       0.82      0.81      0.81      8972\n",
      "\n"
     ]
    }
   ],
   "source": [
    "eval_result_val = hypermodel.evaluate(X_val_padded, y_val_cat)\n",
    "\n",
    "y_probabilities_val = hypermodel.predict(X_val_padded)\n",
    "y_pred_val = np.argmax(y_probabilities_val, axis=1)\n",
    "y_val = np.argmax(y_val_cat, axis=1)\n",
    "\n",
    "print('\\nValidation')\n",
    "print(classification_report(y_val, y_pred_val, zero_division=True))"
   ]
  },
  {
   "cell_type": "code",
   "execution_count": 20,
   "metadata": {},
   "outputs": [
    {
     "name": "stdout",
     "output_type": "stream",
     "text": [
      " 27/561 [>.............................] - ETA: 3s - loss: 0.9534 - accuracy: 0.7998"
     ]
    },
    {
     "name": "stderr",
     "output_type": "stream",
     "text": [
      "2023-04-03 10:23:24.530876: I tensorflow/core/common_runtime/executor.cc:1197] [/device:CPU:0] (DEBUG INFO) Executor start aborting (this does not indicate an error and you can ignore this message): INVALID_ARGUMENT: You must feed a value for placeholder tensor 'Placeholder/_10' with dtype int32 and shape [17944,25]\n",
      "\t [[{{node Placeholder/_10}}]]\n",
      "2023-04-03 10:23:24.531377: I tensorflow/core/common_runtime/executor.cc:1197] [/device:CPU:0] (DEBUG INFO) Executor start aborting (this does not indicate an error and you can ignore this message): INVALID_ARGUMENT: You must feed a value for placeholder tensor 'Placeholder/_11' with dtype uint8 and shape [17944,50]\n",
      "\t [[{{node Placeholder/_11}}]]\n"
     ]
    },
    {
     "name": "stdout",
     "output_type": "stream",
     "text": [
      "561/561 [==============================] - 2s 4ms/step - loss: 0.8753 - accuracy: 0.8155\n",
      " 39/561 [=>............................] - ETA: 2s"
     ]
    },
    {
     "name": "stderr",
     "output_type": "stream",
     "text": [
      "2023-04-03 10:23:27.075576: I tensorflow/core/common_runtime/executor.cc:1197] [/device:CPU:0] (DEBUG INFO) Executor start aborting (this does not indicate an error and you can ignore this message): INVALID_ARGUMENT: You must feed a value for placeholder tensor 'Placeholder/_10' with dtype int32 and shape [17944,25]\n",
      "\t [[{{node Placeholder/_10}}]]\n",
      "2023-04-03 10:23:27.075905: I tensorflow/core/common_runtime/executor.cc:1197] [/device:CPU:0] (DEBUG INFO) Executor start aborting (this does not indicate an error and you can ignore this message): INVALID_ARGUMENT: You must feed a value for placeholder tensor 'Placeholder/_10' with dtype int32 and shape [17944,25]\n",
      "\t [[{{node Placeholder/_10}}]]\n"
     ]
    },
    {
     "name": "stdout",
     "output_type": "stream",
     "text": [
      "561/561 [==============================] - 2s 4ms/step\n",
      "\n",
      "Validation\n",
      "              precision    recall  f1-score   support\n",
      "\n",
      "           0       0.82      0.48      0.61        64\n",
      "           1       0.85      0.81      0.83       109\n",
      "           2       0.93      0.77      0.84        65\n",
      "           3       0.87      0.84      0.85       164\n",
      "           4       0.95      0.72      0.82        57\n",
      "           5       0.78      0.76      0.77        33\n",
      "           6       0.82      0.86      0.84       348\n",
      "           7       0.70      0.69      0.70       367\n",
      "           8       0.76      0.75      0.76       355\n",
      "           9       0.78      0.88      0.83       216\n",
      "          10       0.92      0.39      0.55        28\n",
      "          11       0.76      0.79      0.77        78\n",
      "          12       0.90      0.95      0.93       576\n",
      "          13       0.78      0.80      0.79       181\n",
      "          14       0.54      0.54      0.54        95\n",
      "          15       0.84      0.85      0.84       762\n",
      "          16       0.87      0.77      0.82        26\n",
      "          17       0.77      0.77      0.77       166\n",
      "          18       0.78      0.32      0.45        44\n",
      "          19       0.85      0.69      0.76       251\n",
      "          20       0.82      0.49      0.61        63\n",
      "          21       0.68      0.68      0.68       417\n",
      "          22       0.66      0.77      0.71       733\n",
      "          23       0.75      0.80      0.77       544\n",
      "          24       0.62      0.75      0.68        48\n",
      "          25       0.52      0.41      0.45        37\n",
      "          26       0.85      0.84      0.84       292\n",
      "          27       0.97      0.94      0.96      1868\n",
      "          28       0.90      0.17      0.29        53\n",
      "          29       0.47      0.63      0.54        49\n",
      "          30       0.78      0.75      0.76       142\n",
      "          31       0.71      0.63      0.67        98\n",
      "          32       0.92      0.32      0.48        34\n",
      "          33       0.86      0.88      0.87      1439\n",
      "          34       0.77      0.57      0.65       323\n",
      "          35       0.55      0.58      0.57       337\n",
      "          36       0.88      0.26      0.40        27\n",
      "          37       0.54      0.30      0.39        83\n",
      "          38       0.84      0.95      0.89       714\n",
      "          39       0.72      0.66      0.69        76\n",
      "          40       0.73      0.70      0.72       191\n",
      "          41       0.72      0.58      0.64       135\n",
      "          42       0.76      0.83      0.79      1315\n",
      "          43       0.79      0.84      0.82       997\n",
      "          44       0.66      0.53      0.59       528\n",
      "          45       0.14      0.45      0.22        29\n",
      "          46       0.92      0.90      0.91      2932\n",
      "          47       0.82      0.66      0.73       109\n",
      "          48       0.68      0.50      0.58        34\n",
      "          49       0.87      0.92      0.89       312\n",
      "\n",
      "    accuracy                           0.82     17944\n",
      "   macro avg       0.76      0.67      0.70     17944\n",
      "weighted avg       0.82      0.82      0.81     17944\n",
      "\n"
     ]
    }
   ],
   "source": [
    "eval_result_test = hypermodel.evaluate(X_test_padded, y_test_cat)\n",
    "\n",
    "y_probabilities_test = hypermodel.predict(X_test_padded)\n",
    "y_pred_test = np.argmax(y_probabilities_test, axis=1)\n",
    "y_test = np.argmax(y_test_cat, axis=1)\n",
    "\n",
    "print('\\nValidation')\n",
    "print(classification_report(y_test, y_pred_test, zero_division=True))"
   ]
  }
 ],
 "metadata": {
  "kernelspec": {
   "display_name": ".venv",
   "language": "python",
   "name": "python3"
  },
  "language_info": {
   "codemirror_mode": {
    "name": "ipython",
    "version": 3
   },
   "file_extension": ".py",
   "mimetype": "text/x-python",
   "name": "python",
   "nbconvert_exporter": "python",
   "pygments_lexer": "ipython3",
   "version": "3.8.10"
  },
  "orig_nbformat": 4
 },
 "nbformat": 4,
 "nbformat_minor": 2
}
