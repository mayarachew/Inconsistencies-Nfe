{
 "cells": [
  {
   "cell_type": "code",
   "execution_count": 3,
   "metadata": {},
   "outputs": [],
   "source": [
    "# import necessary libraries\n",
    "import numpy as np\n",
    "import pandas as pd\n",
    "import os\n",
    "import glob"
   ]
  },
  {
   "cell_type": "code",
   "execution_count": 4,
   "metadata": {},
   "outputs": [],
   "source": [
    "SEED=42\n",
    "np.random.seed(SEED) "
   ]
  },
  {
   "attachments": {},
   "cell_type": "markdown",
   "metadata": {},
   "source": [
    "Descobrindo quais colunas são necessárias"
   ]
  },
  {
   "cell_type": "code",
   "execution_count": 5,
   "metadata": {},
   "outputs": [
    {
     "data": {
      "text/plain": [
       "Index(['CHAVE DE ACESSO', 'MODELO', 'SÉRIE', 'NÚMERO', 'NATUREZA DA OPERAÇÃO',\n",
       "       'DATA EMISSÃO', 'EVENTO MAIS RECENTE', 'DATA/HORA EVENTO MAIS RECENTE',\n",
       "       'CPF/CNPJ Emitente', 'RAZÃO SOCIAL EMITENTE',\n",
       "       'INSCRIÇÃO ESTADUAL EMITENTE', 'UF EMITENTE', 'MUNICÍPIO EMITENTE',\n",
       "       'CNPJ DESTINATÁRIO', 'NOME DESTINATÁRIO', 'UF DESTINATÁRIO',\n",
       "       'INDICADOR IE DESTINATÁRIO', 'DESTINO DA OPERAÇÃO', 'CONSUMIDOR FINAL',\n",
       "       'PRESENÇA DO COMPRADOR', 'VALOR NOTA FISCAL'],\n",
       "      dtype='object')"
      ]
     },
     "execution_count": 5,
     "metadata": {},
     "output_type": "execute_result"
    }
   ],
   "source": [
    "df_nf = pd.read_csv('data/nfe/202303_NFe/202303_NFe_NotaFiscal.csv', sep=';', engine='python', encoding='iso8859-1')\n",
    "df_nf.columns"
   ]
  },
  {
   "cell_type": "code",
   "execution_count": 6,
   "metadata": {},
   "outputs": [
    {
     "data": {
      "text/plain": [
       "Index(['CHAVE DE ACESSO', 'MODELO', 'SÉRIE', 'NÚMERO', 'NATUREZA DA OPERAÇÃO',\n",
       "       'DATA EMISSÃO', 'EVENTO', 'DATA/HORA EVENTO', 'DESCRIÇÃO EVENTO',\n",
       "       'MOTIVO EVENTO'],\n",
       "      dtype='object')"
      ]
     },
     "execution_count": 6,
     "metadata": {},
     "output_type": "execute_result"
    }
   ],
   "source": [
    "df_nfe = pd.read_csv('data/nfe/202303_NFe/202303_NFe_NotaFiscalEvento.csv', sep=';', engine='python', encoding='iso8859-1')\n",
    "df_nfe.columns"
   ]
  },
  {
   "cell_type": "code",
   "execution_count": 7,
   "metadata": {},
   "outputs": [
    {
     "data": {
      "text/plain": [
       "Index(['CHAVE DE ACESSO', 'MODELO', 'SÉRIE', 'NÚMERO', 'NATUREZA DA OPERAÇÃO',\n",
       "       'DATA EMISSÃO', 'CPF/CNPJ Emitente', 'RAZÃO SOCIAL EMITENTE',\n",
       "       'INSCRIÇÃO ESTADUAL EMITENTE', 'UF EMITENTE', 'MUNICÍPIO EMITENTE',\n",
       "       'CNPJ DESTINATÁRIO', 'NOME DESTINATÁRIO', 'UF DESTINATÁRIO',\n",
       "       'INDICADOR IE DESTINATÁRIO', 'DESTINO DA OPERAÇÃO', 'CONSUMIDOR FINAL',\n",
       "       'PRESENÇA DO COMPRADOR', 'NÚMERO PRODUTO',\n",
       "       'DESCRIÇÃO DO PRODUTO/SERVIÇO', 'CÓDIGO NCM/SH',\n",
       "       'NCM/SH (TIPO DE PRODUTO)', 'CFOP', 'QUANTIDADE', 'UNIDADE',\n",
       "       'VALOR UNITÁRIO', 'VALOR TOTAL'],\n",
       "      dtype='object')"
      ]
     },
     "execution_count": 7,
     "metadata": {},
     "output_type": "execute_result"
    }
   ],
   "source": [
    "df_nfi = pd.read_csv('data/nfe/202303_NFe/202303_NFe_NotaFiscalItem.csv', sep=';', engine='python', encoding='iso8859-1')\n",
    "df_nfi.columns"
   ]
  },
  {
   "cell_type": "code",
   "execution_count": 8,
   "metadata": {},
   "outputs": [],
   "source": [
    "df_nfi = df_nfi[['CHAVE DE ACESSO', 'NÚMERO PRODUTO',\n",
    "       'DESCRIÇÃO DO PRODUTO/SERVIÇO', 'CÓDIGO NCM/SH',\n",
    "       'NCM/SH (TIPO DE PRODUTO)', 'CFOP', 'QUANTIDADE', 'UNIDADE',\n",
    "       'VALOR UNITÁRIO', 'VALOR TOTAL']]"
   ]
  },
  {
   "cell_type": "code",
   "execution_count": 9,
   "metadata": {},
   "outputs": [],
   "source": [
    "df = df_nf.merge(df_nfi, on='CHAVE DE ACESSO', how='inner')"
   ]
  },
  {
   "cell_type": "code",
   "execution_count": 10,
   "metadata": {},
   "outputs": [
    {
     "name": "stdout",
     "output_type": "stream",
     "text": [
      "45312\n",
      "163331\n",
      "163331\n"
     ]
    }
   ],
   "source": [
    "print(len(df_nf))\n",
    "print(len(df_nfi))\n",
    "print(len(df))"
   ]
  },
  {
   "cell_type": "code",
   "execution_count": 11,
   "metadata": {},
   "outputs": [
    {
     "data": {
      "text/plain": [
       "Index(['CHAVE DE ACESSO', 'MODELO', 'SÉRIE', 'NÚMERO', 'NATUREZA DA OPERAÇÃO',\n",
       "       'DATA EMISSÃO', 'EVENTO MAIS RECENTE', 'DATA/HORA EVENTO MAIS RECENTE',\n",
       "       'CPF/CNPJ Emitente', 'RAZÃO SOCIAL EMITENTE',\n",
       "       'INSCRIÇÃO ESTADUAL EMITENTE', 'UF EMITENTE', 'MUNICÍPIO EMITENTE',\n",
       "       'CNPJ DESTINATÁRIO', 'NOME DESTINATÁRIO', 'UF DESTINATÁRIO',\n",
       "       'INDICADOR IE DESTINATÁRIO', 'DESTINO DA OPERAÇÃO', 'CONSUMIDOR FINAL',\n",
       "       'PRESENÇA DO COMPRADOR', 'VALOR NOTA FISCAL', 'NÚMERO PRODUTO',\n",
       "       'DESCRIÇÃO DO PRODUTO/SERVIÇO', 'CÓDIGO NCM/SH',\n",
       "       'NCM/SH (TIPO DE PRODUTO)', 'CFOP', 'QUANTIDADE', 'UNIDADE',\n",
       "       'VALOR UNITÁRIO', 'VALOR TOTAL'],\n",
       "      dtype='object')"
      ]
     },
     "execution_count": 11,
     "metadata": {},
     "output_type": "execute_result"
    }
   ],
   "source": [
    "df.columns"
   ]
  },
  {
   "cell_type": "code",
   "execution_count": 12,
   "metadata": {},
   "outputs": [
    {
     "data": {
      "text/html": [
       "<div>\n",
       "<style scoped>\n",
       "    .dataframe tbody tr th:only-of-type {\n",
       "        vertical-align: middle;\n",
       "    }\n",
       "\n",
       "    .dataframe tbody tr th {\n",
       "        vertical-align: top;\n",
       "    }\n",
       "\n",
       "    .dataframe thead th {\n",
       "        text-align: right;\n",
       "    }\n",
       "</style>\n",
       "<table border=\"1\" class=\"dataframe\">\n",
       "  <thead>\n",
       "    <tr style=\"text-align: right;\">\n",
       "      <th></th>\n",
       "      <th>CHAVE DE ACESSO</th>\n",
       "      <th>MODELO</th>\n",
       "      <th>SÉRIE</th>\n",
       "      <th>NÚMERO</th>\n",
       "      <th>NATUREZA DA OPERAÇÃO</th>\n",
       "      <th>DATA EMISSÃO</th>\n",
       "      <th>EVENTO MAIS RECENTE</th>\n",
       "      <th>DATA/HORA EVENTO MAIS RECENTE</th>\n",
       "      <th>CPF/CNPJ Emitente</th>\n",
       "      <th>RAZÃO SOCIAL EMITENTE</th>\n",
       "      <th>...</th>\n",
       "      <th>VALOR NOTA FISCAL</th>\n",
       "      <th>NÚMERO PRODUTO</th>\n",
       "      <th>DESCRIÇÃO DO PRODUTO/SERVIÇO</th>\n",
       "      <th>CÓDIGO NCM/SH</th>\n",
       "      <th>NCM/SH (TIPO DE PRODUTO)</th>\n",
       "      <th>CFOP</th>\n",
       "      <th>QUANTIDADE</th>\n",
       "      <th>UNIDADE</th>\n",
       "      <th>VALOR UNITÁRIO</th>\n",
       "      <th>VALOR TOTAL</th>\n",
       "    </tr>\n",
       "  </thead>\n",
       "  <tbody>\n",
       "    <tr>\n",
       "      <th>0</th>\n",
       "      <td>24230340990509000143550010000070471329703304</td>\n",
       "      <td>55 - NF-E EMITIDA EM SUBSTITUIÇÃO AO MODELO 1 ...</td>\n",
       "      <td>1</td>\n",
       "      <td>7047</td>\n",
       "      <td>5102 - VENDA DE MERCADORIAS</td>\n",
       "      <td>01/03/2023 00:00:00</td>\n",
       "      <td>Autorização de Uso</td>\n",
       "      <td>01/03/2023 00:04:56</td>\n",
       "      <td>40990509000143</td>\n",
       "      <td>MANUEL OSORIO DOS SANTOS - EPP</td>\n",
       "      <td>...</td>\n",
       "      <td>142,40</td>\n",
       "      <td>1</td>\n",
       "      <td>Fósforo curto, mç. com 10 caixas.</td>\n",
       "      <td>36050000</td>\n",
       "      <td>Fósforos, exceto os artigos de pirotecnia da p...</td>\n",
       "      <td>5102</td>\n",
       "      <td>5,00</td>\n",
       "      <td>MÇ</td>\n",
       "      <td>3,00</td>\n",
       "      <td>15,00</td>\n",
       "    </tr>\n",
       "    <tr>\n",
       "      <th>1</th>\n",
       "      <td>24230340990509000143550010000070471329703304</td>\n",
       "      <td>55 - NF-E EMITIDA EM SUBSTITUIÇÃO AO MODELO 1 ...</td>\n",
       "      <td>1</td>\n",
       "      <td>7047</td>\n",
       "      <td>5102 - VENDA DE MERCADORIAS</td>\n",
       "      <td>01/03/2023 00:00:00</td>\n",
       "      <td>Autorização de Uso</td>\n",
       "      <td>01/03/2023 00:04:56</td>\n",
       "      <td>40990509000143</td>\n",
       "      <td>MANUEL OSORIO DOS SANTOS - EPP</td>\n",
       "      <td>...</td>\n",
       "      <td>142,40</td>\n",
       "      <td>2</td>\n",
       "      <td>Massa alimentícia para pastel, un. com 500g.</td>\n",
       "      <td>19021900</td>\n",
       "      <td>Outras massas alimentícias não cozidas, nem re...</td>\n",
       "      <td>5405</td>\n",
       "      <td>20,00</td>\n",
       "      <td>UNIDAD</td>\n",
       "      <td>6,37</td>\n",
       "      <td>127,40</td>\n",
       "    </tr>\n",
       "    <tr>\n",
       "      <th>2</th>\n",
       "      <td>13230328388146000175550030000004771000004945</td>\n",
       "      <td>55 - NF-E EMITIDA EM SUBSTITUIÇÃO AO MODELO 1 ...</td>\n",
       "      <td>3</td>\n",
       "      <td>477</td>\n",
       "      <td>VENDA DE MERCADORIA (DENTRO DO ESTADO)</td>\n",
       "      <td>01/03/2023 00:00:00</td>\n",
       "      <td>Autorização de Uso</td>\n",
       "      <td>01/03/2023 01:13:13</td>\n",
       "      <td>28388146000175</td>\n",
       "      <td>ANDREA DA COSTA FERREIRA EIRELI</td>\n",
       "      <td>...</td>\n",
       "      <td>5550,00</td>\n",
       "      <td>1</td>\n",
       "      <td>CARNE PROCESSADA HAMBURGUER</td>\n",
       "      <td>2102000</td>\n",
       "      <td>Carnes de bovinos, salgadas/em salmoura/secas/...</td>\n",
       "      <td>5102</td>\n",
       "      <td>300,00</td>\n",
       "      <td>KG</td>\n",
       "      <td>18,50</td>\n",
       "      <td>5550,00</td>\n",
       "    </tr>\n",
       "    <tr>\n",
       "      <th>3</th>\n",
       "      <td>13230328388146000175550030000004751000004924</td>\n",
       "      <td>55 - NF-E EMITIDA EM SUBSTITUIÇÃO AO MODELO 1 ...</td>\n",
       "      <td>3</td>\n",
       "      <td>475</td>\n",
       "      <td>VENDA DE MERCADORIA (DENTRO DO ESTADO)</td>\n",
       "      <td>01/03/2023 00:00:00</td>\n",
       "      <td>Autorização de Uso</td>\n",
       "      <td>01/03/2023 01:05:25</td>\n",
       "      <td>28388146000175</td>\n",
       "      <td>ANDREA DA COSTA FERREIRA EIRELI</td>\n",
       "      <td>...</td>\n",
       "      <td>1248,00</td>\n",
       "      <td>1</td>\n",
       "      <td>CEBOLA ROXA IN NATURA</td>\n",
       "      <td>7031019</td>\n",
       "      <td>Cebolas, frescas ou refrigeradas, exceto para ...</td>\n",
       "      <td>5102</td>\n",
       "      <td>160,00</td>\n",
       "      <td>KG</td>\n",
       "      <td>7,80</td>\n",
       "      <td>1248,00</td>\n",
       "    </tr>\n",
       "    <tr>\n",
       "      <th>4</th>\n",
       "      <td>13230328388146000175550030000004761000004930</td>\n",
       "      <td>55 - NF-E EMITIDA EM SUBSTITUIÇÃO AO MODELO 1 ...</td>\n",
       "      <td>3</td>\n",
       "      <td>476</td>\n",
       "      <td>VENDA DE MERCADORIA (DENTRO DO ESTADO)</td>\n",
       "      <td>01/03/2023 00:00:00</td>\n",
       "      <td>Autorização de Uso</td>\n",
       "      <td>01/03/2023 01:09:57</td>\n",
       "      <td>28388146000175</td>\n",
       "      <td>ANDREA DA COSTA FERREIRA EIRELI</td>\n",
       "      <td>...</td>\n",
       "      <td>2159,55</td>\n",
       "      <td>1</td>\n",
       "      <td>QUEIJO TIPO PRATO EM BARRA</td>\n",
       "      <td>4061090</td>\n",
       "      <td>Outros queijos frescos (não curados), inclusiv...</td>\n",
       "      <td>5102</td>\n",
       "      <td>45,00</td>\n",
       "      <td>KG</td>\n",
       "      <td>47,99</td>\n",
       "      <td>2159,55</td>\n",
       "    </tr>\n",
       "  </tbody>\n",
       "</table>\n",
       "<p>5 rows × 30 columns</p>\n",
       "</div>"
      ],
      "text/plain": [
       "                                CHAVE DE ACESSO  \\\n",
       "0  24230340990509000143550010000070471329703304   \n",
       "1  24230340990509000143550010000070471329703304   \n",
       "2  13230328388146000175550030000004771000004945   \n",
       "3  13230328388146000175550030000004751000004924   \n",
       "4  13230328388146000175550030000004761000004930   \n",
       "\n",
       "                                              MODELO  SÉRIE  NÚMERO  \\\n",
       "0  55 - NF-E EMITIDA EM SUBSTITUIÇÃO AO MODELO 1 ...      1    7047   \n",
       "1  55 - NF-E EMITIDA EM SUBSTITUIÇÃO AO MODELO 1 ...      1    7047   \n",
       "2  55 - NF-E EMITIDA EM SUBSTITUIÇÃO AO MODELO 1 ...      3     477   \n",
       "3  55 - NF-E EMITIDA EM SUBSTITUIÇÃO AO MODELO 1 ...      3     475   \n",
       "4  55 - NF-E EMITIDA EM SUBSTITUIÇÃO AO MODELO 1 ...      3     476   \n",
       "\n",
       "                     NATUREZA DA OPERAÇÃO         DATA EMISSÃO  \\\n",
       "0             5102 - VENDA DE MERCADORIAS  01/03/2023 00:00:00   \n",
       "1             5102 - VENDA DE MERCADORIAS  01/03/2023 00:00:00   \n",
       "2  VENDA DE MERCADORIA (DENTRO DO ESTADO)  01/03/2023 00:00:00   \n",
       "3  VENDA DE MERCADORIA (DENTRO DO ESTADO)  01/03/2023 00:00:00   \n",
       "4  VENDA DE MERCADORIA (DENTRO DO ESTADO)  01/03/2023 00:00:00   \n",
       "\n",
       "  EVENTO MAIS RECENTE DATA/HORA EVENTO MAIS RECENTE CPF/CNPJ Emitente  \\\n",
       "0  Autorização de Uso           01/03/2023 00:04:56    40990509000143   \n",
       "1  Autorização de Uso           01/03/2023 00:04:56    40990509000143   \n",
       "2  Autorização de Uso           01/03/2023 01:13:13    28388146000175   \n",
       "3  Autorização de Uso           01/03/2023 01:05:25    28388146000175   \n",
       "4  Autorização de Uso           01/03/2023 01:09:57    28388146000175   \n",
       "\n",
       "             RAZÃO SOCIAL EMITENTE  ... VALOR NOTA FISCAL NÚMERO PRODUTO  \\\n",
       "0   MANUEL OSORIO DOS SANTOS - EPP  ...            142,40              1   \n",
       "1   MANUEL OSORIO DOS SANTOS - EPP  ...            142,40              2   \n",
       "2  ANDREA DA COSTA FERREIRA EIRELI  ...           5550,00              1   \n",
       "3  ANDREA DA COSTA FERREIRA EIRELI  ...           1248,00              1   \n",
       "4  ANDREA DA COSTA FERREIRA EIRELI  ...           2159,55              1   \n",
       "\n",
       "                   DESCRIÇÃO DO PRODUTO/SERVIÇO  CÓDIGO NCM/SH  \\\n",
       "0             Fósforo curto, mç. com 10 caixas.       36050000   \n",
       "1  Massa alimentícia para pastel, un. com 500g.       19021900   \n",
       "2                   CARNE PROCESSADA HAMBURGUER        2102000   \n",
       "3                         CEBOLA ROXA IN NATURA        7031019   \n",
       "4                    QUEIJO TIPO PRATO EM BARRA        4061090   \n",
       "\n",
       "                            NCM/SH (TIPO DE PRODUTO)  CFOP QUANTIDADE UNIDADE  \\\n",
       "0  Fósforos, exceto os artigos de pirotecnia da p...  5102       5,00      MÇ   \n",
       "1  Outras massas alimentícias não cozidas, nem re...  5405      20,00  UNIDAD   \n",
       "2  Carnes de bovinos, salgadas/em salmoura/secas/...  5102     300,00      KG   \n",
       "3  Cebolas, frescas ou refrigeradas, exceto para ...  5102     160,00      KG   \n",
       "4  Outros queijos frescos (não curados), inclusiv...  5102      45,00      KG   \n",
       "\n",
       "  VALOR UNITÁRIO VALOR TOTAL  \n",
       "0           3,00       15,00  \n",
       "1           6,37      127,40  \n",
       "2          18,50     5550,00  \n",
       "3           7,80     1248,00  \n",
       "4          47,99     2159,55  \n",
       "\n",
       "[5 rows x 30 columns]"
      ]
     },
     "execution_count": 12,
     "metadata": {},
     "output_type": "execute_result"
    }
   ],
   "source": [
    "df.head()"
   ]
  },
  {
   "cell_type": "code",
   "execution_count": 13,
   "metadata": {},
   "outputs": [
    {
     "name": "stdout",
     "output_type": "stream",
     "text": [
      "['data/nfe/202205_NFe', 'data/nfe/202303_NFe', 'data/nfe/202203_NFe', 'data/nfe/202210_NFe', 'data/nfe/202110_NFe', 'data/nfe/202208_NFe', 'data/nfe/202301_NFe', 'data/nfe/202302_NFe', 'data/nfe/201911_NFe', 'data/nfe/202201_NFe', 'data/nfe/202204_NFe', 'data/nfe/202111_NFe', 'data/nfe/202207_NFe', 'data/nfe/202206_NFe', 'data/nfe/202109_NFe', 'data/nfe/202104_NFe', 'data/nfe/202209_NFe', 'data/nfe/202212_NFe', 'data/nfe/201912_NFe', 'data/nfe/202211_NFe', 'data/nfe/202112_NFe', 'data/nfe/202202_NFe']\n",
      "22\n"
     ]
    }
   ],
   "source": [
    "# Folder Path\n",
    "path = \"data/nfe\"\n",
    "\n",
    "folders = [x[0] for x in os.walk(path)][1:]\n",
    "print(folders)\n",
    "print(len(folders))"
   ]
  },
  {
   "cell_type": "code",
   "execution_count": 14,
   "metadata": {},
   "outputs": [
    {
     "name": "stdout",
     "output_type": "stream",
     "text": [
      "Dataset data/nfe/202205_NFe done!\n",
      "Dataset data/nfe/202303_NFe done!\n",
      "Dataset data/nfe/202203_NFe done!\n",
      "Dataset data/nfe/202210_NFe done!\n",
      "Dataset data/nfe/202110_NFe done!\n",
      "Dataset data/nfe/202208_NFe done!\n",
      "Dataset data/nfe/202301_NFe done!\n",
      "Dataset data/nfe/202302_NFe done!\n",
      "Dataset data/nfe/201911_NFe done!\n",
      "Dataset data/nfe/202201_NFe done!\n",
      "Dataset data/nfe/202204_NFe done!\n",
      "Dataset data/nfe/202111_NFe done!\n",
      "Dataset data/nfe/202207_NFe done!\n",
      "Dataset data/nfe/202206_NFe done!\n",
      "Dataset data/nfe/202109_NFe done!\n",
      "Dataset data/nfe/202104_NFe done!\n",
      "Dataset data/nfe/202209_NFe done!\n",
      "Dataset data/nfe/202212_NFe done!\n",
      "Dataset data/nfe/201912_NFe done!\n",
      "Dataset data/nfe/202211_NFe done!\n",
      "Dataset data/nfe/202112_NFe done!\n",
      "Dataset data/nfe/202202_NFe done!\n"
     ]
    }
   ],
   "source": [
    "df = pd.DataFrame()\n",
    "\n",
    "for folder in folders:\n",
    "    # get all the csv files in the folder\n",
    "    csv_files = glob.glob(os.path.join(folder, \"*.csv\"))\n",
    "\n",
    "    # loop over the list of csv files\n",
    "    for f in csv_files:\n",
    "        \n",
    "        # read the csv file\n",
    "        if 'NotaFiscal.csv' in f:\n",
    "            nf_df = pd.read_csv(f, sep=';', engine='python', encoding='iso8859-1')\n",
    "        elif 'NotaFiscalItem.csv' in f:\n",
    "            nfi_df = pd.read_csv(f, sep=';', engine='python', encoding='iso8859-1')\n",
    "\n",
    "    nfi_df = nfi_df[['CHAVE DE ACESSO', 'NÚMERO PRODUTO',\n",
    "        'DESCRIÇÃO DO PRODUTO/SERVIÇO', 'CÓDIGO NCM/SH',\n",
    "        'NCM/SH (TIPO DE PRODUTO)', 'CFOP', 'QUANTIDADE', 'UNIDADE',\n",
    "        'VALOR UNITÁRIO', 'VALOR TOTAL']]\n",
    "\n",
    "    month_df = nf_df.merge(nfi_df, on='CHAVE DE ACESSO', how='inner')\n",
    "\n",
    "    month_df['ANO MES'] = pd.to_datetime(folder[9:][:6], format='%Y%m').date()\n",
    "    print('Dataset ' + folder + ' done!')\n",
    "\n",
    "    df = pd.concat([df, month_df], ignore_index=True)"
   ]
  },
  {
   "cell_type": "code",
   "execution_count": 16,
   "metadata": {},
   "outputs": [
    {
     "data": {
      "text/plain": [
       "Index(['CHAVE DE ACESSO', 'MODELO', 'SÉRIE', 'NÚMERO', 'NATUREZA DA OPERAÇÃO',\n",
       "       'DATA EMISSÃO', 'EVENTO MAIS RECENTE', 'DATA/HORA EVENTO MAIS RECENTE',\n",
       "       'CPF/CNPJ Emitente', 'RAZÃO SOCIAL EMITENTE',\n",
       "       'INSCRIÇÃO ESTADUAL EMITENTE', 'UF EMITENTE', 'MUNICÍPIO EMITENTE',\n",
       "       'CNPJ DESTINATÁRIO', 'NOME DESTINATÁRIO', 'UF DESTINATÁRIO',\n",
       "       'INDICADOR IE DESTINATÁRIO', 'DESTINO DA OPERAÇÃO', 'CONSUMIDOR FINAL',\n",
       "       'PRESENÇA DO COMPRADOR', 'VALOR NOTA FISCAL', 'NÚMERO PRODUTO',\n",
       "       'DESCRIÇÃO DO PRODUTO/SERVIÇO', 'CÓDIGO NCM/SH',\n",
       "       'NCM/SH (TIPO DE PRODUTO)', 'CFOP', 'QUANTIDADE', 'UNIDADE',\n",
       "       'VALOR UNITÁRIO', 'VALOR TOTAL', 'ANO MES'],\n",
       "      dtype='object')"
      ]
     },
     "execution_count": 16,
     "metadata": {},
     "output_type": "execute_result"
    }
   ],
   "source": [
    "df.columns"
   ]
  },
  {
   "cell_type": "code",
   "execution_count": 17,
   "metadata": {},
   "outputs": [
    {
     "data": {
      "text/html": [
       "<div>\n",
       "<style scoped>\n",
       "    .dataframe tbody tr th:only-of-type {\n",
       "        vertical-align: middle;\n",
       "    }\n",
       "\n",
       "    .dataframe tbody tr th {\n",
       "        vertical-align: top;\n",
       "    }\n",
       "\n",
       "    .dataframe thead th {\n",
       "        text-align: right;\n",
       "    }\n",
       "</style>\n",
       "<table border=\"1\" class=\"dataframe\">\n",
       "  <thead>\n",
       "    <tr style=\"text-align: right;\">\n",
       "      <th></th>\n",
       "      <th>CHAVE DE ACESSO</th>\n",
       "      <th>MODELO</th>\n",
       "      <th>SÉRIE</th>\n",
       "      <th>NÚMERO</th>\n",
       "      <th>NATUREZA DA OPERAÇÃO</th>\n",
       "      <th>DATA EMISSÃO</th>\n",
       "      <th>EVENTO MAIS RECENTE</th>\n",
       "      <th>DATA/HORA EVENTO MAIS RECENTE</th>\n",
       "      <th>CPF/CNPJ Emitente</th>\n",
       "      <th>RAZÃO SOCIAL EMITENTE</th>\n",
       "      <th>...</th>\n",
       "      <th>NÚMERO PRODUTO</th>\n",
       "      <th>DESCRIÇÃO DO PRODUTO/SERVIÇO</th>\n",
       "      <th>CÓDIGO NCM/SH</th>\n",
       "      <th>NCM/SH (TIPO DE PRODUTO)</th>\n",
       "      <th>CFOP</th>\n",
       "      <th>QUANTIDADE</th>\n",
       "      <th>UNIDADE</th>\n",
       "      <th>VALOR UNITÁRIO</th>\n",
       "      <th>VALOR TOTAL</th>\n",
       "      <th>ANO MES</th>\n",
       "    </tr>\n",
       "  </thead>\n",
       "  <tbody>\n",
       "    <tr>\n",
       "      <th>0</th>\n",
       "      <td>35220508411115000180550010000118101999280102</td>\n",
       "      <td>55 - NF-E EMITIDA EM SUBSTITUIÇÃO AO MODELO 1 ...</td>\n",
       "      <td>1</td>\n",
       "      <td>11810</td>\n",
       "      <td>VDA.MERC. ADQ. OU REC. DE TERC</td>\n",
       "      <td>01/05/2022 00:00:00</td>\n",
       "      <td>Cancelamento da NF-e</td>\n",
       "      <td>04/05/2022 16:59:31</td>\n",
       "      <td>08411115000180</td>\n",
       "      <td>JOSE ROBERTO DA COSTA GAS - ME</td>\n",
       "      <td>...</td>\n",
       "      <td>1</td>\n",
       "      <td>AGUA BOA 20L N</td>\n",
       "      <td>22011000</td>\n",
       "      <td>Águas minerais e águas gaseificadas, não adici...</td>\n",
       "      <td>5405</td>\n",
       "      <td>4,00</td>\n",
       "      <td>UNIDAD</td>\n",
       "      <td>15,00</td>\n",
       "      <td>60,00</td>\n",
       "      <td>2022-05-01</td>\n",
       "    </tr>\n",
       "    <tr>\n",
       "      <th>1</th>\n",
       "      <td>35220555531206000130550010000036411456983099</td>\n",
       "      <td>55 - NF-E EMITIDA EM SUBSTITUIÇÃO AO MODELO 1 ...</td>\n",
       "      <td>1</td>\n",
       "      <td>3641</td>\n",
       "      <td>Venda</td>\n",
       "      <td>01/05/2022 00:00:00</td>\n",
       "      <td>Autorização de Uso</td>\n",
       "      <td>01/05/2022 11:48:04</td>\n",
       "      <td>55531206000130</td>\n",
       "      <td>BALDIN DISTRIBUIDORA DE AGUA MINERAL EIRELI</td>\n",
       "      <td>...</td>\n",
       "      <td>1</td>\n",
       "      <td>AGUA UBA 20 LTS</td>\n",
       "      <td>22011000</td>\n",
       "      <td>Águas minerais e águas gaseificadas, não adici...</td>\n",
       "      <td>5405</td>\n",
       "      <td>6,00</td>\n",
       "      <td>GA</td>\n",
       "      <td>12,00</td>\n",
       "      <td>72,00</td>\n",
       "      <td>2022-05-01</td>\n",
       "    </tr>\n",
       "    <tr>\n",
       "      <th>2</th>\n",
       "      <td>53220533683111000280550010003453501993453504</td>\n",
       "      <td>55 - NF-E EMITIDA EM SUBSTITUIÇÃO AO MODELO 1 ...</td>\n",
       "      <td>1</td>\n",
       "      <td>345350</td>\n",
       "      <td>PRESTACAO DE SERVICO</td>\n",
       "      <td>01/05/2022 00:00:00</td>\n",
       "      <td>Autorização de Uso</td>\n",
       "      <td>01/05/2022 00:06:37</td>\n",
       "      <td>33683111000280</td>\n",
       "      <td>SERPRO - REGIONAL BRASILIA</td>\n",
       "      <td>...</td>\n",
       "      <td>1</td>\n",
       "      <td>INFOVIA  Brasilia - Conexao Tipo 3</td>\n",
       "      <td>-1</td>\n",
       "      <td>NaN</td>\n",
       "      <td>5933</td>\n",
       "      <td>1,00</td>\n",
       "      <td>SERVIÇ</td>\n",
       "      <td>12005,94</td>\n",
       "      <td>12005,94</td>\n",
       "      <td>2022-05-01</td>\n",
       "    </tr>\n",
       "    <tr>\n",
       "      <th>3</th>\n",
       "      <td>53220533683111000280550010003453501993453504</td>\n",
       "      <td>55 - NF-E EMITIDA EM SUBSTITUIÇÃO AO MODELO 1 ...</td>\n",
       "      <td>1</td>\n",
       "      <td>345350</td>\n",
       "      <td>PRESTACAO DE SERVICO</td>\n",
       "      <td>01/05/2022 00:00:00</td>\n",
       "      <td>Autorização de Uso</td>\n",
       "      <td>01/05/2022 00:06:37</td>\n",
       "      <td>33683111000280</td>\n",
       "      <td>SERPRO - REGIONAL BRASILIA</td>\n",
       "      <td>...</td>\n",
       "      <td>2</td>\n",
       "      <td>INFOVIA - Porta Adicional</td>\n",
       "      <td>-1</td>\n",
       "      <td>NaN</td>\n",
       "      <td>5933</td>\n",
       "      <td>2,00</td>\n",
       "      <td>SERVIÇ</td>\n",
       "      <td>1171,31</td>\n",
       "      <td>2342,62</td>\n",
       "      <td>2022-05-01</td>\n",
       "    </tr>\n",
       "    <tr>\n",
       "      <th>4</th>\n",
       "      <td>53220533683111000280550010003453501993453504</td>\n",
       "      <td>55 - NF-E EMITIDA EM SUBSTITUIÇÃO AO MODELO 1 ...</td>\n",
       "      <td>1</td>\n",
       "      <td>345350</td>\n",
       "      <td>PRESTACAO DE SERVICO</td>\n",
       "      <td>01/05/2022 00:00:00</td>\n",
       "      <td>Autorização de Uso</td>\n",
       "      <td>01/05/2022 00:06:37</td>\n",
       "      <td>33683111000280</td>\n",
       "      <td>SERPRO - REGIONAL BRASILIA</td>\n",
       "      <td>...</td>\n",
       "      <td>3</td>\n",
       "      <td>INFOVIA - Servico adicional de Conexao a Inter...</td>\n",
       "      <td>-1</td>\n",
       "      <td>NaN</td>\n",
       "      <td>5933</td>\n",
       "      <td>375,00</td>\n",
       "      <td>SERVIÇ</td>\n",
       "      <td>77,61</td>\n",
       "      <td>29103,75</td>\n",
       "      <td>2022-05-01</td>\n",
       "    </tr>\n",
       "  </tbody>\n",
       "</table>\n",
       "<p>5 rows × 31 columns</p>\n",
       "</div>"
      ],
      "text/plain": [
       "                                CHAVE DE ACESSO  \\\n",
       "0  35220508411115000180550010000118101999280102   \n",
       "1  35220555531206000130550010000036411456983099   \n",
       "2  53220533683111000280550010003453501993453504   \n",
       "3  53220533683111000280550010003453501993453504   \n",
       "4  53220533683111000280550010003453501993453504   \n",
       "\n",
       "                                              MODELO  SÉRIE  NÚMERO  \\\n",
       "0  55 - NF-E EMITIDA EM SUBSTITUIÇÃO AO MODELO 1 ...      1   11810   \n",
       "1  55 - NF-E EMITIDA EM SUBSTITUIÇÃO AO MODELO 1 ...      1    3641   \n",
       "2  55 - NF-E EMITIDA EM SUBSTITUIÇÃO AO MODELO 1 ...      1  345350   \n",
       "3  55 - NF-E EMITIDA EM SUBSTITUIÇÃO AO MODELO 1 ...      1  345350   \n",
       "4  55 - NF-E EMITIDA EM SUBSTITUIÇÃO AO MODELO 1 ...      1  345350   \n",
       "\n",
       "             NATUREZA DA OPERAÇÃO         DATA EMISSÃO   EVENTO MAIS RECENTE  \\\n",
       "0  VDA.MERC. ADQ. OU REC. DE TERC  01/05/2022 00:00:00  Cancelamento da NF-e   \n",
       "1                           Venda  01/05/2022 00:00:00    Autorização de Uso   \n",
       "2            PRESTACAO DE SERVICO  01/05/2022 00:00:00    Autorização de Uso   \n",
       "3            PRESTACAO DE SERVICO  01/05/2022 00:00:00    Autorização de Uso   \n",
       "4            PRESTACAO DE SERVICO  01/05/2022 00:00:00    Autorização de Uso   \n",
       "\n",
       "  DATA/HORA EVENTO MAIS RECENTE CPF/CNPJ Emitente  \\\n",
       "0           04/05/2022 16:59:31    08411115000180   \n",
       "1           01/05/2022 11:48:04    55531206000130   \n",
       "2           01/05/2022 00:06:37    33683111000280   \n",
       "3           01/05/2022 00:06:37    33683111000280   \n",
       "4           01/05/2022 00:06:37    33683111000280   \n",
       "\n",
       "                         RAZÃO SOCIAL EMITENTE  ... NÚMERO PRODUTO  \\\n",
       "0               JOSE ROBERTO DA COSTA GAS - ME  ...              1   \n",
       "1  BALDIN DISTRIBUIDORA DE AGUA MINERAL EIRELI  ...              1   \n",
       "2                   SERPRO - REGIONAL BRASILIA  ...              1   \n",
       "3                   SERPRO - REGIONAL BRASILIA  ...              2   \n",
       "4                   SERPRO - REGIONAL BRASILIA  ...              3   \n",
       "\n",
       "                        DESCRIÇÃO DO PRODUTO/SERVIÇO CÓDIGO NCM/SH  \\\n",
       "0                                     AGUA BOA 20L N      22011000   \n",
       "1                                    AGUA UBA 20 LTS      22011000   \n",
       "2                 INFOVIA  Brasilia - Conexao Tipo 3            -1   \n",
       "3                          INFOVIA - Porta Adicional            -1   \n",
       "4  INFOVIA - Servico adicional de Conexao a Inter...            -1   \n",
       "\n",
       "                            NCM/SH (TIPO DE PRODUTO)  CFOP QUANTIDADE UNIDADE  \\\n",
       "0  Águas minerais e águas gaseificadas, não adici...  5405       4,00  UNIDAD   \n",
       "1  Águas minerais e águas gaseificadas, não adici...  5405       6,00      GA   \n",
       "2                                                NaN  5933       1,00  SERVIÇ   \n",
       "3                                                NaN  5933       2,00  SERVIÇ   \n",
       "4                                                NaN  5933     375,00  SERVIÇ   \n",
       "\n",
       "  VALOR UNITÁRIO VALOR TOTAL     ANO MES  \n",
       "0          15,00       60,00  2022-05-01  \n",
       "1          12,00       72,00  2022-05-01  \n",
       "2       12005,94    12005,94  2022-05-01  \n",
       "3        1171,31     2342,62  2022-05-01  \n",
       "4          77,61    29103,75  2022-05-01  \n",
       "\n",
       "[5 rows x 31 columns]"
      ]
     },
     "execution_count": 17,
     "metadata": {},
     "output_type": "execute_result"
    }
   ],
   "source": [
    "df.head()"
   ]
  },
  {
   "cell_type": "code",
   "execution_count": 18,
   "metadata": {},
   "outputs": [
    {
     "data": {
      "text/plain": [
       "2022-08-01    558420\n",
       "2022-07-01    538603\n",
       "2022-05-01    528309\n",
       "2022-06-01    523929\n",
       "2022-11-01    514341\n",
       "2021-12-01    503087\n",
       "2022-10-01    493653\n",
       "2022-12-01    492749\n",
       "2022-09-01    480687\n",
       "2022-03-01    475099\n",
       "2021-11-01    464193\n",
       "2022-04-01    437396\n",
       "2023-01-01    397728\n",
       "2022-02-01    376411\n",
       "2023-02-01    328844\n",
       "2022-01-01    324104\n",
       "2023-03-01    163331\n",
       "2021-10-01     52869\n",
       "2019-12-01        36\n",
       "2021-09-01         3\n",
       "2019-11-01         2\n",
       "2021-04-01         1\n",
       "Name: ANO MES, dtype: int64"
      ]
     },
     "execution_count": 18,
     "metadata": {},
     "output_type": "execute_result"
    }
   ],
   "source": [
    "df['ANO MES'].value_counts()"
   ]
  },
  {
   "attachments": {},
   "cell_type": "markdown",
   "metadata": {},
   "source": [
    "Remoção do Código NCM/SH=-1, por não ser equivalente aos NCMs oficiais"
   ]
  },
  {
   "cell_type": "code",
   "execution_count": 19,
   "metadata": {},
   "outputs": [],
   "source": [
    "df = df[df['CÓDIGO NCM/SH'].astype(str) != '-1']"
   ]
  },
  {
   "cell_type": "code",
   "execution_count": 20,
   "metadata": {},
   "outputs": [
    {
     "data": {
      "text/plain": [
       "49019900    606562\n",
       "90189099    304356\n",
       "90211020    229766\n",
       "90213190     86316\n",
       "49119900     85567\n",
       "             ...  \n",
       "29339085         1\n",
       "38247420         1\n",
       "85143029         1\n",
       "84185000         1\n",
       "58050020         1\n",
       "Name: CÓDIGO NCM/SH, Length: 9054, dtype: int64"
      ]
     },
     "execution_count": 20,
     "metadata": {},
     "output_type": "execute_result"
    }
   ],
   "source": [
    "df['CÓDIGO NCM/SH'].value_counts()"
   ]
  },
  {
   "attachments": {},
   "cell_type": "markdown",
   "metadata": {},
   "source": [
    "#### Definição de datasets com UF EMITENTE='DF' e UF DESTINATÁRIO='DF'"
   ]
  },
  {
   "cell_type": "code",
   "execution_count": 21,
   "metadata": {},
   "outputs": [
    {
     "data": {
      "text/plain": [
       "SP    1594003\n",
       "RJ    1200245\n",
       "RS     811675\n",
       "MG     627914\n",
       "PR     462486\n",
       "Name: UF EMITENTE, dtype: int64"
      ]
     },
     "execution_count": 21,
     "metadata": {},
     "output_type": "execute_result"
    }
   ],
   "source": [
    "df['UF EMITENTE'].astype(str).value_counts()[:5]"
   ]
  },
  {
   "cell_type": "code",
   "execution_count": 22,
   "metadata": {},
   "outputs": [
    {
     "data": {
      "text/plain": [
       "RJ    1424571\n",
       "DF    1287687\n",
       "RS     715692\n",
       "SP     538852\n",
       "MG     533349\n",
       "Name: UF DESTINATÁRIO, dtype: int64"
      ]
     },
     "execution_count": 22,
     "metadata": {},
     "output_type": "execute_result"
    }
   ],
   "source": [
    "df['UF DESTINATÁRIO'].astype(str).value_counts()[:5]"
   ]
  },
  {
   "cell_type": "code",
   "execution_count": 20,
   "metadata": {},
   "outputs": [],
   "source": [
    "df_ufe_df = df[df['UF EMITENTE'].astype(str) == 'DF']\n",
    "df_ufd_df = df[df['UF DESTINATÁRIO'].astype(str) == 'DF']"
   ]
  },
  {
   "cell_type": "code",
   "execution_count": 21,
   "metadata": {},
   "outputs": [
    {
     "data": {
      "text/plain": [
       "2022-01-01    259926\n",
       "2021-01-01     42316\n",
       "2023-01-01     41583\n",
       "Name: DATA EMISSÃO, dtype: int64"
      ]
     },
     "execution_count": 21,
     "metadata": {},
     "output_type": "execute_result"
    }
   ],
   "source": [
    "df_ufe_df['DATA EMISSÃO'].astype('datetime64[Y]').value_counts()"
   ]
  },
  {
   "cell_type": "code",
   "execution_count": 22,
   "metadata": {},
   "outputs": [],
   "source": [
    "df_ufe_df = df_ufe_df[df_ufe_df['DESTINO DA OPERAÇÃO'] == '2 - OPERAÇÃO INTERESTADUAL']\n",
    "df_ufd_df = df_ufd_df[df_ufd_df['DESTINO DA OPERAÇÃO'] == '2 - OPERAÇÃO INTERESTADUAL']"
   ]
  },
  {
   "cell_type": "code",
   "execution_count": 23,
   "metadata": {},
   "outputs": [
    {
     "name": "stdout",
     "output_type": "stream",
     "text": [
      "Tamanho do dataset UF EMITENTE=DF: 61624\n",
      "Tamanho do dataset UF DESTINATÁRIO=DF: 655000\n"
     ]
    }
   ],
   "source": [
    "df_ufe_df = df_ufe_df[df_ufe_df['DATA EMISSÃO'].astype('datetime64[Y]') == '2022-01-01']\n",
    "df_ufd_df = df_ufd_df[df_ufd_df['DATA EMISSÃO'].astype('datetime64[Y]') == '2022-01-01']\n",
    "\n",
    "print(f'Tamanho do dataset UF EMITENTE=DF: {len(df_ufe_df)}')\n",
    "print(f'Tamanho do dataset UF DESTINATÁRIO=DF: {len(df_ufd_df)}')"
   ]
  },
  {
   "attachments": {},
   "cell_type": "markdown",
   "metadata": {},
   "source": [
    "#### Definição do dataset com NCM=34"
   ]
  },
  {
   "cell_type": "code",
   "execution_count": 25,
   "metadata": {},
   "outputs": [],
   "source": [
    "df_ncm_34 = df[df['CÓDIGO NCM/SH'].astype(str).str.startswith('34')]"
   ]
  },
  {
   "cell_type": "code",
   "execution_count": 26,
   "metadata": {},
   "outputs": [
    {
     "data": {
      "text/plain": [
       "2022-01-01    65980\n",
       "2021-01-01    11467\n",
       "2023-01-01    11457\n",
       "Name: DATA EMISSÃO, dtype: int64"
      ]
     },
     "execution_count": 26,
     "metadata": {},
     "output_type": "execute_result"
    }
   ],
   "source": [
    "df_ncm_34['DATA EMISSÃO'].astype('datetime64[Y]').value_counts()"
   ]
  },
  {
   "cell_type": "code",
   "execution_count": 27,
   "metadata": {},
   "outputs": [
    {
     "name": "stdout",
     "output_type": "stream",
     "text": [
      "Tamanho do dataset NCM=34: 65980\n"
     ]
    }
   ],
   "source": [
    "df_ncm_34 = df_ncm_34[df_ncm_34['DATA EMISSÃO'].astype('datetime64[Y]') == '2022-01-01']\n",
    "\n",
    "print(f'Tamanho do dataset NCM=34: {len(df_ncm_34)}')"
   ]
  },
  {
   "attachments": {},
   "cell_type": "markdown",
   "metadata": {},
   "source": [
    "### Sampling"
   ]
  },
  {
   "cell_type": "code",
   "execution_count": 28,
   "metadata": {},
   "outputs": [],
   "source": [
    "df_100000 = df.sample(n=100000, random_state=SEED)\n",
    "df_5000 = df.sample(n=5000, random_state=SEED)\n",
    "df_2500 = df.sample(n=2500, random_state=SEED)\n",
    "df_1000 = df.sample(n=1000, random_state=SEED)\n",
    "df_5000_estr = df.groupby('ANO MES', group_keys=False).apply(lambda x: x.sample(frac=0.0006528))\n",
    "df_2500_estr = df.groupby('ANO MES', group_keys=False).apply(lambda x: x.sample(frac=0.0003269))\n",
    "df_1000_estr = df.groupby('ANO MES', group_keys=False).apply(lambda x: x.sample(frac=0.0001308))"
   ]
  },
  {
   "cell_type": "code",
   "execution_count": 25,
   "metadata": {},
   "outputs": [],
   "source": [
    "df_100000.to_csv('data/processed_nfe/nfe_100000.csv', index=False)\n",
    "df_ufe_df.to_csv('data/processed_nfe/nfe_ufe_df.csv', index=False)\n",
    "df_ufd_df.to_csv('data/processed_nfe/nfe_ufd_df.csv', index=False)\n",
    "df_ncm_34.to_csv('data/processed_nfe/nfe_ncm_34.csv', index=False)\n",
    "df_5000.to_csv('data/processed_nfe/nfe_5000.csv', index=False)\n",
    "df_2500.to_csv('data/processed_nfe/nfe_2500.csv', index=False)\n",
    "df_1000.to_csv('data/processed_nfe/nfe_1000.csv', index=False)\n",
    "df_5000_estr.to_csv('data/processed_nfe/nfe_5000_estr.csv', index=False)\n",
    "df_2500_estr.to_csv('data/processed_nfe/nfe_2500_estr.csv', index=False)\n",
    "df_1000_estr.to_csv('data/processed_nfe/nfe_1000_estr.csv', index=False)"
   ]
  },
  {
   "cell_type": "code",
   "execution_count": 30,
   "metadata": {},
   "outputs": [
    {
     "data": {
      "text/html": [
       "<div>\n",
       "<style scoped>\n",
       "    .dataframe tbody tr th:only-of-type {\n",
       "        vertical-align: middle;\n",
       "    }\n",
       "\n",
       "    .dataframe tbody tr th {\n",
       "        vertical-align: top;\n",
       "    }\n",
       "\n",
       "    .dataframe thead th {\n",
       "        text-align: right;\n",
       "    }\n",
       "</style>\n",
       "<table border=\"1\" class=\"dataframe\">\n",
       "  <thead>\n",
       "    <tr style=\"text-align: right;\">\n",
       "      <th></th>\n",
       "      <th>CÓDIGO NCM/SH</th>\n",
       "      <th>NCM/SH (TIPO DE PRODUTO)</th>\n",
       "    </tr>\n",
       "  </thead>\n",
       "  <tbody>\n",
       "    <tr>\n",
       "      <th>1679401</th>\n",
       "      <td>85369090</td>\n",
       "      <td>Outros aparelhos para interrupção, etc, para c...</td>\n",
       "    </tr>\n",
       "    <tr>\n",
       "      <th>1710226</th>\n",
       "      <td>87089300</td>\n",
       "      <td>Embreagens e suas partes para tratores/veículo...</td>\n",
       "    </tr>\n",
       "    <tr>\n",
       "      <th>1680651</th>\n",
       "      <td>22072019</td>\n",
       "      <td>Outro álcool etílico desnaturado</td>\n",
       "    </tr>\n",
       "    <tr>\n",
       "      <th>1677646</th>\n",
       "      <td>7099990</td>\n",
       "      <td>Outros produtos hortícolas, frescos ou refrige...</td>\n",
       "    </tr>\n",
       "    <tr>\n",
       "      <th>1710454</th>\n",
       "      <td>19059090</td>\n",
       "      <td>Outros produtos de padaria, pastelaria, indúst...</td>\n",
       "    </tr>\n",
       "    <tr>\n",
       "      <th>1664362</th>\n",
       "      <td>84213100</td>\n",
       "      <td>Filtros de entrada de ar para motores de igniç...</td>\n",
       "    </tr>\n",
       "    <tr>\n",
       "      <th>1693834</th>\n",
       "      <td>84139190</td>\n",
       "      <td>Outras partes de bombas para líquidos</td>\n",
       "    </tr>\n",
       "    <tr>\n",
       "      <th>4109086</th>\n",
       "      <td>7099990</td>\n",
       "      <td>Outros produtos hortícolas, frescos ou refrige...</td>\n",
       "    </tr>\n",
       "    <tr>\n",
       "      <th>3929955</th>\n",
       "      <td>85365090</td>\n",
       "      <td>Outros interruptores, etc, de circuitos elétri...</td>\n",
       "    </tr>\n",
       "    <tr>\n",
       "      <th>4217083</th>\n",
       "      <td>30049069</td>\n",
       "      <td>Outros medicamentos contendo compostos heteroc...</td>\n",
       "    </tr>\n",
       "  </tbody>\n",
       "</table>\n",
       "</div>"
      ],
      "text/plain": [
       "         CÓDIGO NCM/SH                           NCM/SH (TIPO DE PRODUTO)\n",
       "1679401       85369090  Outros aparelhos para interrupção, etc, para c...\n",
       "1710226       87089300  Embreagens e suas partes para tratores/veículo...\n",
       "1680651       22072019                   Outro álcool etílico desnaturado\n",
       "1677646        7099990  Outros produtos hortícolas, frescos ou refrige...\n",
       "1710454       19059090  Outros produtos de padaria, pastelaria, indúst...\n",
       "1664362       84213100  Filtros de entrada de ar para motores de igniç...\n",
       "1693834       84139190              Outras partes de bombas para líquidos\n",
       "4109086        7099990  Outros produtos hortícolas, frescos ou refrige...\n",
       "3929955       85365090  Outros interruptores, etc, de circuitos elétri...\n",
       "4217083       30049069  Outros medicamentos contendo compostos heteroc..."
      ]
     },
     "execution_count": 30,
     "metadata": {},
     "output_type": "execute_result"
    }
   ],
   "source": [
    "df_1000_estr[['CÓDIGO NCM/SH','NCM/SH (TIPO DE PRODUTO)']][:10]"
   ]
  },
  {
   "attachments": {},
   "cell_type": "markdown",
   "metadata": {},
   "source": [
    "O que significa CÓDIGO NCM/SH = -1?"
   ]
  },
  {
   "cell_type": "code",
   "execution_count": 31,
   "metadata": {},
   "outputs": [
    {
     "data": {
      "text/html": [
       "<div>\n",
       "<style scoped>\n",
       "    .dataframe tbody tr th:only-of-type {\n",
       "        vertical-align: middle;\n",
       "    }\n",
       "\n",
       "    .dataframe tbody tr th {\n",
       "        vertical-align: top;\n",
       "    }\n",
       "\n",
       "    .dataframe thead th {\n",
       "        text-align: right;\n",
       "    }\n",
       "</style>\n",
       "<table border=\"1\" class=\"dataframe\">\n",
       "  <thead>\n",
       "    <tr style=\"text-align: right;\">\n",
       "      <th></th>\n",
       "      <th>CHAVE DE ACESSO</th>\n",
       "      <th>RAZÃO SOCIAL EMITENTE</th>\n",
       "      <th>NÚMERO</th>\n",
       "      <th>VALOR NOTA FISCAL</th>\n",
       "      <th>NATUREZA DA OPERAÇÃO</th>\n",
       "      <th>DESCRIÇÃO DO PRODUTO/SERVIÇO</th>\n",
       "      <th>CÓDIGO NCM/SH</th>\n",
       "      <th>NCM/SH (TIPO DE PRODUTO)</th>\n",
       "      <th>VALOR TOTAL</th>\n",
       "      <th>ANO MES</th>\n",
       "    </tr>\n",
       "  </thead>\n",
       "  <tbody>\n",
       "    <tr>\n",
       "      <th>0</th>\n",
       "      <td>35220508411115000180550010000118101999280102</td>\n",
       "      <td>JOSE ROBERTO DA COSTA GAS - ME</td>\n",
       "      <td>11810</td>\n",
       "      <td>60,00</td>\n",
       "      <td>VDA.MERC. ADQ. OU REC. DE TERC</td>\n",
       "      <td>AGUA BOA 20L N</td>\n",
       "      <td>22011000</td>\n",
       "      <td>Águas minerais e águas gaseificadas, não adici...</td>\n",
       "      <td>60,00</td>\n",
       "      <td>2022-05-01</td>\n",
       "    </tr>\n",
       "    <tr>\n",
       "      <th>1</th>\n",
       "      <td>35220555531206000130550010000036411456983099</td>\n",
       "      <td>BALDIN DISTRIBUIDORA DE AGUA MINERAL EIRELI</td>\n",
       "      <td>3641</td>\n",
       "      <td>72,00</td>\n",
       "      <td>Venda</td>\n",
       "      <td>AGUA UBA 20 LTS</td>\n",
       "      <td>22011000</td>\n",
       "      <td>Águas minerais e águas gaseificadas, não adici...</td>\n",
       "      <td>72,00</td>\n",
       "      <td>2022-05-01</td>\n",
       "    </tr>\n",
       "    <tr>\n",
       "      <th>5</th>\n",
       "      <td>11220518604271000111550010000005151755268629</td>\n",
       "      <td>ROGERIO DUARTE DE CARVALHO</td>\n",
       "      <td>515</td>\n",
       "      <td>16946,00</td>\n",
       "      <td>VENDA AO CONSUMIDOR</td>\n",
       "      <td>TELHA FIBROTEX 6MM 2.44X1.10</td>\n",
       "      <td>68114000</td>\n",
       "      <td>Obras de fibrocimento, cimento-celulose ou pro...</td>\n",
       "      <td>16940,00</td>\n",
       "      <td>2022-05-01</td>\n",
       "    </tr>\n",
       "    <tr>\n",
       "      <th>6</th>\n",
       "      <td>11220518604271000111550010000005151755268629</td>\n",
       "      <td>ROGERIO DUARTE DE CARVALHO</td>\n",
       "      <td>515</td>\n",
       "      <td>16946,00</td>\n",
       "      <td>VENDA AO CONSUMIDOR</td>\n",
       "      <td>FIXADOR DE TINTA/CAL 150ML</td>\n",
       "      <td>25222000</td>\n",
       "      <td>Cal apagada</td>\n",
       "      <td>6,00</td>\n",
       "      <td>2022-05-01</td>\n",
       "    </tr>\n",
       "    <tr>\n",
       "      <th>7</th>\n",
       "      <td>11220518604271000111550010000005161373513257</td>\n",
       "      <td>ROGERIO DUARTE DE CARVALHO</td>\n",
       "      <td>516</td>\n",
       "      <td>8350,00</td>\n",
       "      <td>VENDA AO CONSUMIDOR</td>\n",
       "      <td>LINHA DE PEDREIRO TORCIDA 100MTS</td>\n",
       "      <td>56074900</td>\n",
       "      <td>Outros cordéis, cordas, etc, de polietileno/po...</td>\n",
       "      <td>384,00</td>\n",
       "      <td>2022-05-01</td>\n",
       "    </tr>\n",
       "  </tbody>\n",
       "</table>\n",
       "</div>"
      ],
      "text/plain": [
       "                                CHAVE DE ACESSO  \\\n",
       "0  35220508411115000180550010000118101999280102   \n",
       "1  35220555531206000130550010000036411456983099   \n",
       "5  11220518604271000111550010000005151755268629   \n",
       "6  11220518604271000111550010000005151755268629   \n",
       "7  11220518604271000111550010000005161373513257   \n",
       "\n",
       "                         RAZÃO SOCIAL EMITENTE  NÚMERO VALOR NOTA FISCAL  \\\n",
       "0               JOSE ROBERTO DA COSTA GAS - ME   11810             60,00   \n",
       "1  BALDIN DISTRIBUIDORA DE AGUA MINERAL EIRELI    3641             72,00   \n",
       "5                   ROGERIO DUARTE DE CARVALHO     515          16946,00   \n",
       "6                   ROGERIO DUARTE DE CARVALHO     515          16946,00   \n",
       "7                   ROGERIO DUARTE DE CARVALHO     516           8350,00   \n",
       "\n",
       "             NATUREZA DA OPERAÇÃO      DESCRIÇÃO DO PRODUTO/SERVIÇO  \\\n",
       "0  VDA.MERC. ADQ. OU REC. DE TERC                    AGUA BOA 20L N   \n",
       "1                           Venda                   AGUA UBA 20 LTS   \n",
       "5             VENDA AO CONSUMIDOR      TELHA FIBROTEX 6MM 2.44X1.10   \n",
       "6             VENDA AO CONSUMIDOR        FIXADOR DE TINTA/CAL 150ML   \n",
       "7             VENDA AO CONSUMIDOR  LINHA DE PEDREIRO TORCIDA 100MTS   \n",
       "\n",
       "   CÓDIGO NCM/SH                           NCM/SH (TIPO DE PRODUTO)  \\\n",
       "0       22011000  Águas minerais e águas gaseificadas, não adici...   \n",
       "1       22011000  Águas minerais e águas gaseificadas, não adici...   \n",
       "5       68114000  Obras de fibrocimento, cimento-celulose ou pro...   \n",
       "6       25222000                                        Cal apagada   \n",
       "7       56074900  Outros cordéis, cordas, etc, de polietileno/po...   \n",
       "\n",
       "  VALOR TOTAL     ANO MES  \n",
       "0       60,00  2022-05-01  \n",
       "1       72,00  2022-05-01  \n",
       "5    16940,00  2022-05-01  \n",
       "6        6,00  2022-05-01  \n",
       "7      384,00  2022-05-01  "
      ]
     },
     "execution_count": 31,
     "metadata": {},
     "output_type": "execute_result"
    }
   ],
   "source": [
    "df[['CHAVE DE ACESSO', 'RAZÃO SOCIAL EMITENTE', 'NÚMERO', 'VALOR NOTA FISCAL', 'NATUREZA DA OPERAÇÃO', 'DESCRIÇÃO DO PRODUTO/SERVIÇO', 'CÓDIGO NCM/SH', 'NCM/SH (TIPO DE PRODUTO)', 'VALOR TOTAL', 'ANO MES']].head()"
   ]
  },
  {
   "cell_type": "code",
   "execution_count": 32,
   "metadata": {},
   "outputs": [
    {
     "data": {
      "text/html": [
       "<div>\n",
       "<style scoped>\n",
       "    .dataframe tbody tr th:only-of-type {\n",
       "        vertical-align: middle;\n",
       "    }\n",
       "\n",
       "    .dataframe tbody tr th {\n",
       "        vertical-align: top;\n",
       "    }\n",
       "\n",
       "    .dataframe thead th {\n",
       "        text-align: right;\n",
       "    }\n",
       "</style>\n",
       "<table border=\"1\" class=\"dataframe\">\n",
       "  <thead>\n",
       "    <tr style=\"text-align: right;\">\n",
       "      <th></th>\n",
       "      <th>CHAVE DE ACESSO</th>\n",
       "      <th>MODELO</th>\n",
       "      <th>SÉRIE</th>\n",
       "      <th>NÚMERO</th>\n",
       "      <th>NATUREZA DA OPERAÇÃO</th>\n",
       "      <th>DATA EMISSÃO</th>\n",
       "      <th>EVENTO MAIS RECENTE</th>\n",
       "      <th>DATA/HORA EVENTO MAIS RECENTE</th>\n",
       "      <th>CPF/CNPJ Emitente</th>\n",
       "      <th>RAZÃO SOCIAL EMITENTE</th>\n",
       "      <th>...</th>\n",
       "      <th>NÚMERO PRODUTO</th>\n",
       "      <th>DESCRIÇÃO DO PRODUTO/SERVIÇO</th>\n",
       "      <th>CÓDIGO NCM/SH</th>\n",
       "      <th>NCM/SH (TIPO DE PRODUTO)</th>\n",
       "      <th>CFOP</th>\n",
       "      <th>QUANTIDADE</th>\n",
       "      <th>UNIDADE</th>\n",
       "      <th>VALOR UNITÁRIO</th>\n",
       "      <th>VALOR TOTAL</th>\n",
       "      <th>ANO MES</th>\n",
       "    </tr>\n",
       "  </thead>\n",
       "  <tbody>\n",
       "    <tr>\n",
       "      <th>0</th>\n",
       "      <td>43220309219009000162550000000181651979108377</td>\n",
       "      <td>55 - NF-E EMITIDA EM SUBSTITUIÇÃO AO MODELO 1 ...</td>\n",
       "      <td>0</td>\n",
       "      <td>18165</td>\n",
       "      <td>VENDA DE MERCADORIAS</td>\n",
       "      <td>30/03/2022 17:48:12</td>\n",
       "      <td>Autorização de Uso</td>\n",
       "      <td>30/03/2022 17:48:17</td>\n",
       "      <td>09219009000162</td>\n",
       "      <td>FAL COMERCIO DE ALIMENTOS E EQUIPAMENTOS EIRELI</td>\n",
       "      <td>...</td>\n",
       "      <td>12</td>\n",
       "      <td>CEBOLA KG</td>\n",
       "      <td>7031019</td>\n",
       "      <td>Cebolas, frescas ou refrigeradas, exceto para ...</td>\n",
       "      <td>5102</td>\n",
       "      <td>5,00</td>\n",
       "      <td>KG</td>\n",
       "      <td>3,53</td>\n",
       "      <td>17,65</td>\n",
       "      <td>2022-03-01</td>\n",
       "    </tr>\n",
       "    <tr>\n",
       "      <th>1</th>\n",
       "      <td>33221240233686000185551100000157061766719386</td>\n",
       "      <td>55 - NF-E EMITIDA EM SUBSTITUIÇÃO AO MODELO 1 ...</td>\n",
       "      <td>110</td>\n",
       "      <td>15706</td>\n",
       "      <td>VENDA</td>\n",
       "      <td>21/12/2022 13:11:09</td>\n",
       "      <td>Cancelamento da NF-e</td>\n",
       "      <td>21/12/2022 13:12:45</td>\n",
       "      <td>40233686000185</td>\n",
       "      <td>POSTO DE GASOLINA AMIGAO DA DUTRA LTDA</td>\n",
       "      <td>...</td>\n",
       "      <td>1</td>\n",
       "      <td>ETANOL HIDRATADO COMUM</td>\n",
       "      <td>22071090</td>\n",
       "      <td>Outro álcool etílico não desnaturado</td>\n",
       "      <td>5656</td>\n",
       "      <td>6,68</td>\n",
       "      <td>LITRO</td>\n",
       "      <td>4,49</td>\n",
       "      <td>29,99</td>\n",
       "      <td>2022-12-01</td>\n",
       "    </tr>\n",
       "    <tr>\n",
       "      <th>2</th>\n",
       "      <td>43220126390085000317550010001049471335003756</td>\n",
       "      <td>55 - NF-E EMITIDA EM SUBSTITUIÇÃO AO MODELO 1 ...</td>\n",
       "      <td>1</td>\n",
       "      <td>104947</td>\n",
       "      <td>ENTRADA DE BEM POR CONTA DE COMODATO</td>\n",
       "      <td>07/01/2022 12:36:28</td>\n",
       "      <td>Autorização de Uso</td>\n",
       "      <td>07/01/2022 13:28:41</td>\n",
       "      <td>26390085000317</td>\n",
       "      <td>ENDOLOG LOGISTICA E ARMAZENS LTDA</td>\n",
       "      <td>...</td>\n",
       "      <td>44</td>\n",
       "      <td>1020-1200 #FRESA INICIAL ACCOLADE TMFZ</td>\n",
       "      <td>90189099</td>\n",
       "      <td>Outros instrumentos e aparelhos para medicina,...</td>\n",
       "      <td>1908</td>\n",
       "      <td>1,00</td>\n",
       "      <td>UNIDAD</td>\n",
       "      <td>766,10</td>\n",
       "      <td>766,10</td>\n",
       "      <td>2022-01-01</td>\n",
       "    </tr>\n",
       "    <tr>\n",
       "      <th>3</th>\n",
       "      <td>51220706372763000140550010000084671000039516</td>\n",
       "      <td>55 - NF-E EMITIDA EM SUBSTITUIÇÃO AO MODELO 1 ...</td>\n",
       "      <td>1</td>\n",
       "      <td>8467</td>\n",
       "      <td>DEVOLUCAO DE MERCADORIA</td>\n",
       "      <td>12/07/2022 14:00:42</td>\n",
       "      <td>Autorização de Uso</td>\n",
       "      <td>12/07/2022 14:00:40</td>\n",
       "      <td>06372763000140</td>\n",
       "      <td>NUTRICENTER DISTRIBUIDORA DE PRODUTOS NUTRICIO...</td>\n",
       "      <td>...</td>\n",
       "      <td>2</td>\n",
       "      <td>NAN COMFOR 2 400G - NESTLE</td>\n",
       "      <td>19011010</td>\n",
       "      <td>Leite modificado, para alimentação de crianças...</td>\n",
       "      <td>1202</td>\n",
       "      <td>504,00</td>\n",
       "      <td>UNIDAD</td>\n",
       "      <td>20,95</td>\n",
       "      <td>10558,80</td>\n",
       "      <td>2022-07-01</td>\n",
       "    </tr>\n",
       "    <tr>\n",
       "      <th>4</th>\n",
       "      <td>31211213545241000168550010000376921021322490</td>\n",
       "      <td>55 - NF-E EMITIDA EM SUBSTITUIÇÃO AO MODELO 1 ...</td>\n",
       "      <td>1</td>\n",
       "      <td>37692</td>\n",
       "      <td>REMESSA DE MERCADORIA</td>\n",
       "      <td>14/12/2021 17:05:30</td>\n",
       "      <td>Autorização de Uso</td>\n",
       "      <td>14/12/2021 17:07:08</td>\n",
       "      <td>13545241000168</td>\n",
       "      <td>SINTESE BIOTECNOLOGIA LTDA</td>\n",
       "      <td>...</td>\n",
       "      <td>2</td>\n",
       "      <td>OLIGONUCLEOTIDEOS - IDT</td>\n",
       "      <td>29349934</td>\n",
       "      <td>Ácidos nucleicos e seus sais</td>\n",
       "      <td>6923</td>\n",
       "      <td>1,00</td>\n",
       "      <td>FR</td>\n",
       "      <td>421,30</td>\n",
       "      <td>421,30</td>\n",
       "      <td>2021-12-01</td>\n",
       "    </tr>\n",
       "  </tbody>\n",
       "</table>\n",
       "<p>5 rows × 31 columns</p>\n",
       "</div>"
      ],
      "text/plain": [
       "                                CHAVE DE ACESSO  \\\n",
       "0  43220309219009000162550000000181651979108377   \n",
       "1  33221240233686000185551100000157061766719386   \n",
       "2  43220126390085000317550010001049471335003756   \n",
       "3  51220706372763000140550010000084671000039516   \n",
       "4  31211213545241000168550010000376921021322490   \n",
       "\n",
       "                                              MODELO  SÉRIE  NÚMERO  \\\n",
       "0  55 - NF-E EMITIDA EM SUBSTITUIÇÃO AO MODELO 1 ...      0   18165   \n",
       "1  55 - NF-E EMITIDA EM SUBSTITUIÇÃO AO MODELO 1 ...    110   15706   \n",
       "2  55 - NF-E EMITIDA EM SUBSTITUIÇÃO AO MODELO 1 ...      1  104947   \n",
       "3  55 - NF-E EMITIDA EM SUBSTITUIÇÃO AO MODELO 1 ...      1    8467   \n",
       "4  55 - NF-E EMITIDA EM SUBSTITUIÇÃO AO MODELO 1 ...      1   37692   \n",
       "\n",
       "                   NATUREZA DA OPERAÇÃO         DATA EMISSÃO  \\\n",
       "0                  VENDA DE MERCADORIAS  30/03/2022 17:48:12   \n",
       "1                                 VENDA  21/12/2022 13:11:09   \n",
       "2  ENTRADA DE BEM POR CONTA DE COMODATO  07/01/2022 12:36:28   \n",
       "3               DEVOLUCAO DE MERCADORIA  12/07/2022 14:00:42   \n",
       "4                 REMESSA DE MERCADORIA  14/12/2021 17:05:30   \n",
       "\n",
       "    EVENTO MAIS RECENTE DATA/HORA EVENTO MAIS RECENTE CPF/CNPJ Emitente  \\\n",
       "0    Autorização de Uso           30/03/2022 17:48:17    09219009000162   \n",
       "1  Cancelamento da NF-e           21/12/2022 13:12:45    40233686000185   \n",
       "2    Autorização de Uso           07/01/2022 13:28:41    26390085000317   \n",
       "3    Autorização de Uso           12/07/2022 14:00:40    06372763000140   \n",
       "4    Autorização de Uso           14/12/2021 17:07:08    13545241000168   \n",
       "\n",
       "                               RAZÃO SOCIAL EMITENTE  ... NÚMERO PRODUTO  \\\n",
       "0    FAL COMERCIO DE ALIMENTOS E EQUIPAMENTOS EIRELI  ...             12   \n",
       "1             POSTO DE GASOLINA AMIGAO DA DUTRA LTDA  ...              1   \n",
       "2                  ENDOLOG LOGISTICA E ARMAZENS LTDA  ...             44   \n",
       "3  NUTRICENTER DISTRIBUIDORA DE PRODUTOS NUTRICIO...  ...              2   \n",
       "4                         SINTESE BIOTECNOLOGIA LTDA  ...              2   \n",
       "\n",
       "             DESCRIÇÃO DO PRODUTO/SERVIÇO CÓDIGO NCM/SH  \\\n",
       "0                               CEBOLA KG       7031019   \n",
       "1                  ETANOL HIDRATADO COMUM      22071090   \n",
       "2  1020-1200 #FRESA INICIAL ACCOLADE TMFZ      90189099   \n",
       "3              NAN COMFOR 2 400G - NESTLE      19011010   \n",
       "4                 OLIGONUCLEOTIDEOS - IDT      29349934   \n",
       "\n",
       "                            NCM/SH (TIPO DE PRODUTO)  CFOP QUANTIDADE UNIDADE  \\\n",
       "0  Cebolas, frescas ou refrigeradas, exceto para ...  5102       5,00      KG   \n",
       "1               Outro álcool etílico não desnaturado  5656       6,68   LITRO   \n",
       "2  Outros instrumentos e aparelhos para medicina,...  1908       1,00  UNIDAD   \n",
       "3  Leite modificado, para alimentação de crianças...  1202     504,00  UNIDAD   \n",
       "4                       Ácidos nucleicos e seus sais  6923       1,00      FR   \n",
       "\n",
       "  VALOR UNITÁRIO VALOR TOTAL     ANO MES  \n",
       "0           3,53       17,65  2022-03-01  \n",
       "1           4,49       29,99  2022-12-01  \n",
       "2         766,10      766,10  2022-01-01  \n",
       "3          20,95    10558,80  2022-07-01  \n",
       "4         421,30      421,30  2021-12-01  \n",
       "\n",
       "[5 rows x 31 columns]"
      ]
     },
     "execution_count": 32,
     "metadata": {},
     "output_type": "execute_result"
    }
   ],
   "source": [
    "pd.read_csv('data/processed_nfe/nfe_1000.csv').head()"
   ]
  }
 ],
 "metadata": {
  "kernelspec": {
   "display_name": "Python 3",
   "language": "python",
   "name": "python3"
  },
  "language_info": {
   "codemirror_mode": {
    "name": "ipython",
    "version": 3
   },
   "file_extension": ".py",
   "mimetype": "text/x-python",
   "name": "python",
   "nbconvert_exporter": "python",
   "pygments_lexer": "ipython3",
   "version": "3.8.10"
  },
  "orig_nbformat": 4,
  "vscode": {
   "interpreter": {
    "hash": "916dbcbb3f70747c44a77c7bcd40155683ae19c65e1c03b4aa3499c5328201f1"
   }
  }
 },
 "nbformat": 4,
 "nbformat_minor": 2
}
