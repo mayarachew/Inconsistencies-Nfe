{
 "cells": [
  {
   "attachments": {},
   "cell_type": "markdown",
   "metadata": {},
   "source": [
    "5 - É possível identificar casos inconsistentes utilizando classificação de NCM?\n",
    "\n",
    "- CÓDIGO NCM/SH\n",
    "\n",
    "- DESCRIÇÃO DO PRODUTO/SERVIÇO, NATUREZA DA OPERAÇÃO\n",
    "\n",
    "- DATA EMISSÃO MES, DATA EMISSÃO DIA DA SEMANA, DATA EMISSÃO DIA, DATA EMISSÃO PERÍODO, VALOR DA NOTA FISCAL, VALOR UNITÁRIO, QUANTIDADE, CFOP, INDICADOR IE DESTINATÁRIO"
   ]
  },
  {
   "attachments": {},
   "cell_type": "markdown",
   "metadata": {},
   "source": [
    "### Importação de Bibliotecas"
   ]
  },
  {
   "cell_type": "code",
   "execution_count": null,
   "metadata": {},
   "outputs": [],
   "source": [
    "import pandas as pd\n",
    "import numpy as np\n",
    "import random\n",
    "import seaborn as sns\n",
    "import datetime\n",
    "import os\n",
    "from sklearn.metrics import classification_report\n",
    "\n",
    "import tensorflow_addons as tfa\n",
    "import keras_tuner as kt\n",
    "from tensorflow import keras\n",
    "import tensorflow as tf\n",
    "\n",
    "from classes import Preprocessing, Lstm, Model\n",
    "\n",
    "SEED = 42\n",
    "random.seed(SEED)\n",
    "np.random.seed(SEED)\n",
    "tf.random.set_seed(SEED)"
   ]
  },
  {
   "attachments": {},
   "cell_type": "markdown",
   "metadata": {},
   "source": [
    "### Leitura de Dados"
   ]
  },
  {
   "cell_type": "code",
   "execution_count": 2,
   "metadata": {},
   "outputs": [],
   "source": [
    "raw_df = pd.read_csv('data/processed_nfe/nfe_100000.csv')"
   ]
  },
  {
   "attachments": {},
   "cell_type": "markdown",
   "metadata": {},
   "source": [
    "### Pré-processamento"
   ]
  },
  {
   "attachments": {},
   "cell_type": "markdown",
   "metadata": {},
   "source": [
    "Tipagem"
   ]
  },
  {
   "cell_type": "code",
   "execution_count": 3,
   "metadata": {},
   "outputs": [],
   "source": [
    "df = Preprocessing.define_types(raw_df)\n",
    "df = Preprocessing.filter_event_authorized(df)"
   ]
  },
  {
   "cell_type": "markdown",
   "metadata": {},
   "source": [
    "Definição de colunas"
   ]
  },
  {
   "cell_type": "code",
   "execution_count": null,
   "metadata": {},
   "outputs": [],
   "source": [
    "df['CAPÍTULO NCM'] = df['CÓDIGO NCM/SH'].astype(str).str[0] + df['CÓDIGO NCM/SH'].astype(str).str[1]\n",
    "df = df[['DESCRIÇÃO DO PRODUTO/SERVIÇO','CAPÍTULO NCM']]\n",
    "df.rename(columns={'DESCRIÇÃO DO PRODUTO/SERVIÇO':'DESCRICAO'},inplace=True)\n",
    "\n",
    "df.head()"
   ]
  },
  {
   "attachments": {},
   "cell_type": "markdown",
   "metadata": {},
   "source": [
    "Aplica pré-processamento no texto da 'DESCRICAO'"
   ]
  },
  {
   "cell_type": "code",
   "execution_count": null,
   "metadata": {},
   "outputs": [],
   "source": [
    "df, corpus_desc = Preprocessing.apply_preprocessing(df)\n",
    "\n",
    "df.head()"
   ]
  },
  {
   "cell_type": "code",
   "execution_count": null,
   "metadata": {},
   "outputs": [],
   "source": [
    "df_train, df_val, df_test = Preprocessing.split_dataset(df)"
   ]
  },
  {
   "cell_type": "code",
   "execution_count": null,
   "metadata": {},
   "outputs": [],
   "source": [
    "mean_sequence_length, max_sequence_length = Preprocessing.get_sequences_details(df_train)\n",
    "\n",
    "print(f'Mean sequence length: {mean_sequence_length}')\n",
    "print(f'Max sequence length: {max_sequence_length}')"
   ]
  },
  {
   "cell_type": "code",
   "execution_count": null,
   "metadata": {},
   "outputs": [],
   "source": [
    "MAX_SEQUENCE_LENGTH = max_sequence_length\n",
    "NUM_LABELS = 2\n",
    "\n",
    "VOCAB_SIZE, X_train_padded, X_val_padded, X_test_padded = Preprocessing.adapt_X_for_input_layer(df_train['TEXT'].astype(str), df_val['TEXT'].astype(str), df_test['TEXT'].astype(str), MAX_SEQUENCE_LENGTH)\n",
    "\n",
    "print('Training features shape:', X_train_padded.shape)\n",
    "print('Validation features shape:', X_val_padded.shape)\n",
    "print('Test features shape:', X_test_padded.shape)\n",
    "\n",
    "X_train_padded"
   ]
  },
  {
   "cell_type": "code",
   "execution_count": null,
   "metadata": {},
   "outputs": [],
   "source": [
    "df_train['LABEL'].value_counts()"
   ]
  },
  {
   "cell_type": "code",
   "execution_count": null,
   "metadata": {},
   "outputs": [],
   "source": [
    "X_train_padded, y_train_smote = Preprocessing.smote(X_train_padded, df_train['LABEL'])\n",
    "\n",
    "pd.DataFrame(y_train_smote).value_counts()"
   ]
  },
  {
   "cell_type": "code",
   "execution_count": null,
   "metadata": {},
   "outputs": [],
   "source": [
    "y_train_cat, y_val_cat, y_test_cat = Preprocessing.adapt_y_for_input_layer(y_train_smote, df_val['LABEL'], df_test['LABEL'])\n",
    "\n",
    "y_train_cat.shape"
   ]
  },
  {
   "cell_type": "code",
   "execution_count": null,
   "metadata": {},
   "outputs": [],
   "source": [
    "METRICS = [\n",
    "      keras.metrics.TruePositives(name='tp'),\n",
    "      keras.metrics.FalsePositives(name='fp'),\n",
    "      keras.metrics.TrueNegatives(name='tn'),\n",
    "      keras.metrics.FalseNegatives(name='fn'), \n",
    "      keras.metrics.BinaryAccuracy(name='accuracy'),\n",
    "      keras.metrics.Precision(name='precision'),\n",
    "      keras.metrics.Recall(name='recall'),\n",
    "      keras.metrics.AUC(name='auc'),\n",
    "      keras.metrics.AUC(name='prc', curve='PR'), # precision-recall curve\n",
    "      tfa.metrics.F1Score(num_classes=2, average='macro', name='f1_score_macro')\n",
    "]"
   ]
  },
  {
   "cell_type": "code",
   "execution_count": null,
   "metadata": {},
   "outputs": [],
   "source": [
    "tuner = kt.RandomSearch(\n",
    "    hypermodel=Lstm(VOCAB_SIZE, MAX_SEQUENCE_LENGTH, NUM_LABELS, METRICS, None),\n",
    "    objective=kt.Objective('f1_score_macro', direction='max'),\n",
    "    max_trials=1,\n",
    "    executions_per_trial=2,\n",
    "    # overwrite=True,\n",
    "    directory=\"hyperparameters_search\",\n",
    "    project_name=\"lstm\",\n",
    "    seed=SEED\n",
    ")\n",
    "\n",
    "print(tuner.search_space_summary())"
   ]
  },
  {
   "cell_type": "code",
   "execution_count": null,
   "metadata": {},
   "outputs": [],
   "source": [
    "logdir = os.path.join(\"logs/lstm/\", datetime.datetime.now().strftime(\"%Y%m%d-%H%M%S\"))\n",
    "tensorboard_callback = keras.callbacks.TensorBoard(logdir, histogram_freq=1)\n",
    "earlystopping_callback = keras.callbacks.EarlyStopping('val_loss', mode='min', verbose=1, patience=5)\n",
    "\n",
    "callbacks_list = [earlystopping_callback, tensorboard_callback]"
   ]
  },
  {
   "cell_type": "code",
   "execution_count": 4,
   "metadata": {},
   "outputs": [],
   "source": [
    "tuner.search(X_train_padded, y_train_cat,\n",
    "             validation_data=(X_val_padded, y_val_cat),\n",
    "             callbacks=callbacks_list)"
   ]
  },
  {
   "cell_type": "code",
   "execution_count": 5,
   "metadata": {},
   "outputs": [
    {
     "data": {
      "text/plain": [
       "NÃO CONTRIBUINTE       46623\n",
       "CONTRIBUINTE ISENTO    14220\n",
       "CONTRIBUINTE ICMS       1212\n",
       "Name: INDICADOR IE DESTINATÁRIO, dtype: int64"
      ]
     },
     "execution_count": 5,
     "metadata": {},
     "output_type": "execute_result"
    }
   ],
   "source": [
    "best_model = tuner.get_best_models()[0]\n",
    "Model.save(best_model, 'lstm')\n",
    "\n",
    "best_hps = tuner.get_best_hyperparameters()[0]\n",
    "print(best_hps.values)"
   ]
  },
  {
   "cell_type": "code",
   "execution_count": null,
   "metadata": {},
   "outputs": [],
   "source": [
    "hypermodel = Model.recover('lstm')\n",
    "\n",
    "EPOCHS = 4\n",
    "BATCH_SIZE = 8\n",
    "LEARNING_RATE = 0.0002496944527778083\n",
    "LOSS = 'categorical_crossentropy'\n",
    "\n",
    "hypermodel.compile(optimizer=keras.optimizers.Adam(learning_rate=LEARNING_RATE),\n",
    "                    loss=LOSS, \n",
    "                    metrics=METRICS) "
   ]
  }
 ],
 "metadata": {
  "kernelspec": {
   "display_name": ".venv",
   "language": "python",
   "name": "python3"
  },
  "language_info": {
   "codemirror_mode": {
    "name": "ipython",
    "version": 3
   },
   "file_extension": ".py",
   "mimetype": "text/x-python",
   "name": "python",
   "nbconvert_exporter": "python",
   "pygments_lexer": "ipython3",
   "version": "3.8.10"
  },
  "orig_nbformat": 4
 },
 "nbformat": 4,
 "nbformat_minor": 2
}
